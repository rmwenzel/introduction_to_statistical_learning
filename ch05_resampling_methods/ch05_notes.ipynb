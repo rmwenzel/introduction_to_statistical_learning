{
 "cells": [
  {
   "cell_type": "markdown",
   "metadata": {
    "toc": true
   },
   "source": [
    "<h1>Table of Contents<span class=\"tocSkip\"></span></h1>\n",
    "<div class=\"toc\"><ul class=\"toc-item\"><li><span><a href=\"#Resampling-Methods\" data-toc-modified-id=\"Resampling-Methods-5\"><span class=\"toc-item-num\">5&nbsp;&nbsp;</span>Resampling Methods</a></span><ul class=\"toc-item\"><li><span><a href=\"#Cross-validation\" data-toc-modified-id=\"Cross-validation-5.1\"><span class=\"toc-item-num\">5.1&nbsp;&nbsp;</span>Cross-validation</a></span><ul class=\"toc-item\"><li><span><a href=\"#The-Validation-Set-Approach\" data-toc-modified-id=\"The-Validation-Set-Approach-5.1.1\"><span class=\"toc-item-num\">5.1.1&nbsp;&nbsp;</span>The Validation Set Approach</a></span></li><li><span><a href=\"#Leave-One-Out-Cross-Validation\" data-toc-modified-id=\"Leave-One-Out-Cross-Validation-5.1.2\"><span class=\"toc-item-num\">5.1.2&nbsp;&nbsp;</span>Leave-One-Out Cross Validation</a></span></li><li><span><a href=\"#$k$-fold-Cross-Validation\" data-toc-modified-id=\"$k$-fold-Cross-Validation-5.1.3\"><span class=\"toc-item-num\">5.1.3&nbsp;&nbsp;</span>$k$-fold Cross-Validation</a></span></li><li><span><a href=\"#Bias-Variance-Tradeoff-for-$k$-fold-Cross-Validation\" data-toc-modified-id=\"Bias-Variance-Tradeoff-for-$k$-fold-Cross-Validation-5.1.4\"><span class=\"toc-item-num\">5.1.4&nbsp;&nbsp;</span>Bias-Variance Tradeoff for $k$-fold Cross Validation</a></span></li><li><span><a href=\"#Cross-Validation-on-Classification-Problems\" data-toc-modified-id=\"Cross-Validation-on-Classification-Problems-5.1.5\"><span class=\"toc-item-num\">5.1.5&nbsp;&nbsp;</span>Cross-Validation on Classification Problems</a></span></li></ul></li><li><span><a href=\"#The-Bootstrap\" data-toc-modified-id=\"The-Bootstrap-5.2\"><span class=\"toc-item-num\">5.2&nbsp;&nbsp;</span>The Bootstrap</a></span></li><li><span><a href=\"#Footnotes\" data-toc-modified-id=\"Footnotes-5.3\"><span class=\"toc-item-num\">5.3&nbsp;&nbsp;</span>Footnotes</a></span></li></ul></li></ul></div>"
   ]
  },
  {
   "cell_type": "markdown",
   "metadata": {},
   "source": [
    "___\n",
    "# Resampling Methods\n",
    "___"
   ]
  },
  {
   "cell_type": "markdown",
   "metadata": {},
   "source": [
    "- ***Resampling methods***  involve repeatedly drawing samples from a training set and refitting a model of interest on each sample in order to obtain additional information about the fitted model\n",
    "\n",
    "- Two of the most commonly used resampling methods are ***cross-validation*** and the bootstrap\n",
    "\n",
    "- Resampling methods can be useful in ***model assessment***, the process of evaluating a model's performance, or in ***model selection***, the process of selecting the proper level of flexibility."
   ]
  },
  {
   "cell_type": "markdown",
   "metadata": {},
   "source": [
    "## Cross-validation"
   ]
  },
  {
   "cell_type": "markdown",
   "metadata": {},
   "source": [
    "### The Validation Set Approach"
   ]
  },
  {
   "cell_type": "markdown",
   "metadata": {},
   "source": [
    "- Randomly divide the data into a ***training set*** and ***validation set***. The model is fit on the training set and its prediction performance on the test set provides an estimate of overall performance. \n",
    "\n",
    "- In the case of a quantitative response, the prediction performance is measured by the mean-squared-error. The validation estimates the \"true\" $\\text{MSE}$ with the mean-squared error $\\text{MSE}_{validation}$ computed on the validation set."
   ]
  },
  {
   "cell_type": "markdown",
   "metadata": {},
   "source": [
    "##### Advantages"
   ]
  },
  {
   "cell_type": "markdown",
   "metadata": {},
   "source": [
    "- conceptual simplicity\n",
    "- ease of implementation\n",
    "- low computational resources"
   ]
  },
  {
   "cell_type": "markdown",
   "metadata": {},
   "source": [
    "##### Disadvantages"
   ]
  },
  {
   "cell_type": "markdown",
   "metadata": {},
   "source": [
    "- the validation estimate is highly variable - it is highly dependent on the train/validation set split\n",
    "- since the model is trained on a subset of the dataset, it may tend to overestimate the test error rate if it was trained on the entire dataset"
   ]
  },
  {
   "cell_type": "markdown",
   "metadata": {},
   "source": [
    "### Leave-One-Out Cross Validation"
   ]
  },
  {
   "cell_type": "markdown",
   "metadata": {},
   "source": [
    "Given paired observations $\\mathcal{D} = \\{(x_1, y_1), \\dots, (x_n, y_n)\\}$, for each $1 \\leqslant i \\leqslant n$:\n",
    "- Divide the data $\\mathcal{D}$ into a training set $\\mathcal{D}_{(i)} = \\mathcal{D}\\ \\{(x_i, y_i)\\}$ and a validation set $\\{(x_i, y_i)\\}$.\n",
    "- Train a model $\\mathcal{M}_i$ on $\\mathcal{D}_{(i)}$ and use it to predict $\\hat{y}_i$.\n",
    "- The LOOCV estimate for $\\text{MSE}_{test}$ is\n",
    "    \n",
    "    $$CV_{(n)} = \\frac{1}{n}\\sum_{i=1}^n \\text{MSE}_i$$\n",
    "    \n",
    "   where $\\text{MSE}_i = (y_i - \\hat{y}_i)$<sup><a href='#foot31' id='ref31'>31</a></sup>"
   ]
  },
  {
   "cell_type": "markdown",
   "metadata": {},
   "source": [
    "##### Advantages"
   ]
  },
  {
   "cell_type": "markdown",
   "metadata": {},
   "source": [
    "- approximately unbiased\n",
    "- deterministic - doesn't depend on a random train/test split.\n",
    "- computationally fast in least squares regression\n",
    "   $$CV_{(n)} = \\frac{1}{n}\\sum_{i=1}^n \\left(\\frac{y_i - \\hat{y}_i}{1 - h_i}\\right)^2$$\n",
    "   where $h_i$ is the [leverage](#High-Leverage-Points) of point i"
   ]
  },
  {
   "cell_type": "markdown",
   "metadata": {},
   "source": [
    "##### Disdvantages"
   ]
  },
  {
   "cell_type": "markdown",
   "metadata": {},
   "source": [
    "- Computationally expensive<sup><a href='#foot32' id='ref32'>32</a></sup> in general"
   ]
  },
  {
   "cell_type": "markdown",
   "metadata": {},
   "source": [
    "### $k$-fold Cross-Validation"
   ]
  },
  {
   "cell_type": "markdown",
   "metadata": {},
   "source": [
    "Given paired observations $\\mathcal{D} = \\{(x_1, y_1), \\dots, (x_n, y_n)\\}$, divide the data $\\mathcal{D}$ into $K$ ***folds*** (sets) $\\mathcal{D}_1, \\dots, \\mathcal{D}_K$ of roughly equal size.<sup><a href='#foot33' id='ref33'>33</a></sup> Then for each $1 \\leqslant k \\leqslant K$:\n",
    "    \n",
    "- Train a model on $\\mathcal{M}_k$ on $\\cup_{j\\neq k} \\mathcal{D}_{j}$ and validate on $\\mathcal{D}_k$.\n",
    "- The $k$-fold CV estimate for $\\text{MSE}_{test}$ is\n",
    "    \n",
    "    $$CV_{(k)} = \\frac{1}{k}\\sum_{i=1}^k \\text{MSE}_k$$\n",
    "    \n",
    "   where $\\text{MSE}_k$ is the mean-squared-error on the validation set $\\mathcal{D}_k$"
   ]
  },
  {
   "cell_type": "markdown",
   "metadata": {},
   "source": [
    "##### Advantages"
   ]
  },
  {
   "cell_type": "markdown",
   "metadata": {},
   "source": [
    "- computationally faster than $LOOCV$ if $k > 1$\n",
    "- less variance than validation set approach or LOOCV"
   ]
  },
  {
   "cell_type": "markdown",
   "metadata": {},
   "source": [
    "##### Disdvantages"
   ]
  },
  {
   "cell_type": "markdown",
   "metadata": {},
   "source": [
    "- more biased than LOOCV if $k > 1$."
   ]
  },
  {
   "cell_type": "markdown",
   "metadata": {},
   "source": [
    "### Bias-Variance Tradeoff for $k$-fold Cross Validation"
   ]
  },
  {
   "cell_type": "markdown",
   "metadata": {},
   "source": [
    "As $k \\rightarrow n$, bias $\\downarrow$ but variance $\\uparrow$"
   ]
  },
  {
   "cell_type": "markdown",
   "metadata": {},
   "source": [
    "### Cross-Validation on Classification Problems"
   ]
  },
  {
   "cell_type": "markdown",
   "metadata": {},
   "source": [
    "In the classification setting, we define the LOOCV estimate\n",
    "\n",
    "$$CV_{(n)} = \\frac{1}{n}\\sum_{i=1}^n \\text{Err}_i$$\n",
    "\n",
    "where $\\text{Err}_i = I(y_i \\neq \\hat{y}_i)$. The $k$-fold CV and validation error rates are defined analogously."
   ]
  },
  {
   "cell_type": "markdown",
   "metadata": {},
   "source": [
    "## The Bootstrap"
   ]
  },
  {
   "cell_type": "markdown",
   "metadata": {},
   "source": [
    "The bootstrap is a method for estimating the standard error of a statistic<sup><a href='#foot34' id='ref34'>34</a></sup> or statistical learning process. In the case of an estimator $\\hat{S}$ for a statistic $S$ proceeds as follows:\n",
    "\n",
    "Given a dataset $\\mathcal{D}$ with $|\\mathcal{D}=n|$, for $1 \\leqslant i \\leqslant B$:\n",
    "- Create a bootstrap dataset $\\mathcal{D}^\\ast_i$ by sampling uniformly $n$ times from $\\mathcal{D}$\n",
    "- Calculate the statistic $S$ on $\\mathcal{D}^\\ast_i$ to get a bootstrap estimate $S^\\ast_i$ of $S$\n",
    "\n",
    "Then the bootstrap estimate for the $\\mathbf{se}(S)$ the sample standard deviation of the boostrap estimates $S^\\ast_1, \\dots, S^\\ast_B$:\n",
    "\n",
    "$$\\hat{se}(\\hat{S}) = \\sqrt{\\frac{1}{B-1} \\sum_{i = 1}^ B \\left(S^\\ast_i - \\overline{S^\\ast}\\right)^2}$$"
   ]
  },
  {
   "cell_type": "markdown",
   "metadata": {},
   "source": [
    "___\n",
    "## Footnotes"
   ]
  },
  {
   "cell_type": "markdown",
   "metadata": {},
   "source": [
    "<p>\n",
    "</p>\n",
    "\n",
    "<div id=\"foot31\"> 31. $\\text{MSE}_i$ is just the mean-squared error of the model $\\mathcal{M}_i$ on the validation set $\\{(x_i, y_i)\\}$. It is an approximately unbiased estimator of $\\text{MSE}_{test}$ but it has high variance. But as the average of the $\\text{MSE}_i$, $CV_{(n)}$ has much lower variance.\\\\\n",
    "    \n",
    "$CV_{(n)}$ is sometimes called the LOOCV error rate -- it can be seen as the average error rate over the singleton validation sets $\\{(x_i, y_i)\\}$\n",
    "<a href=\"#ref31\">↩</a>\n",
    "</div>\n",
    "\n",
    "<p>\n",
    "</p>\n",
    "\n",
    "<div id=\"foot32\"> 32. Specifically $O(n * \\text{model fit time})$\n",
    "<a href=\"#ref32\">↩</a>\n",
    "</div>\n",
    "\n",
    "<p>\n",
    "</p>\n",
    "\n",
    "<div id=\"foot33\"> 33. LOOCV is then $k$-fold CV in the case $k=n$. Analogous, $CV_{k}$ is sometimes called the $k$-fold CV error rate, the average error over the folds.\n",
    "<a href=\"#ref33\">↩</a>\n",
    "</div>\n",
    " \n",
    "<p>\n",
    "</p>\n",
    "\n",
    "<div id=\"foot34\"> 34. Recall a statistic $S$ is just a function of a sample $S = S(X_1,\\dots, X_n)$\n",
    "<a href=\"#ref34\">↩</a>\n",
    "</div>"
   ]
  }
 ],
 "metadata": {
  "kernelspec": {
   "display_name": "Python 3",
   "language": "python",
   "name": "python3"
  },
  "language_info": {
   "codemirror_mode": {
    "name": "ipython",
    "version": 3
   },
   "file_extension": ".py",
   "mimetype": "text/x-python",
   "name": "python",
   "nbconvert_exporter": "python",
   "pygments_lexer": "ipython3",
   "version": "3.7.1"
  },
  "latex_envs": {
   "LaTeX_envs_menu_present": true,
   "autoclose": false,
   "autocomplete": true,
   "bibliofile": "biblio.bib",
   "cite_by": "apalike",
   "current_citInitial": 1,
   "eqLabelWithNumbers": true,
   "eqNumInitial": 1,
   "hotkeys": {
    "equation": "Ctrl-E",
    "itemize": "Ctrl-I"
   },
   "labels_anchors": false,
   "latex_user_defs": false,
   "report_style_numbering": false,
   "user_envs_cfg": false
  },
  "toc": {
   "base_numbering": "5",
   "nav_menu": {},
   "number_sections": true,
   "sideBar": false,
   "skip_h1_title": false,
   "title_cell": "Table of Contents",
   "title_sidebar": "Contents",
   "toc_cell": true,
   "toc_position": {
    "height": "541px",
    "left": "978px",
    "top": "153px",
    "width": "256px"
   },
   "toc_section_display": false,
   "toc_window_display": true
  }
 },
 "nbformat": 4,
 "nbformat_minor": 2
}
