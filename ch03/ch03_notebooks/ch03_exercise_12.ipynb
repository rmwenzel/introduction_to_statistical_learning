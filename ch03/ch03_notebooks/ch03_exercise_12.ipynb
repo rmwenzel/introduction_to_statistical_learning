{
 "cells": [
  {
   "cell_type": "markdown",
   "metadata": {},
   "source": [
    "# Simple regression without an intercept"
   ]
  },
  {
   "cell_type": "markdown",
   "metadata": {
    "toc": true
   },
   "source": [
    "<h1>Table of Contents<span class=\"tocSkip\"></span></h1>\n",
    "<div class=\"toc\"><ul class=\"toc-item\"><li><span><a href=\"#a.-When-is-beta-hat-the-same-when-we-switch-predictor-and-response?\" data-toc-modified-id=\"a.-When-is-beta-hat-the-same-when-we-switch-predictor-and-response?-1\">a. When is beta hat the same when we switch predictor and response?</a></span></li><li><span><a href=\"#b.-Generate-a-counterexample\" data-toc-modified-id=\"b.-Generate-a-counterexample-2\">b. Generate a counterexample</a></span></li><li><span><a href=\"#c.-Generate-an-example\" data-toc-modified-id=\"c.-Generate-an-example-3\">c. Generate an example</a></span></li></ul></div>"
   ]
  },
  {
   "cell_type": "markdown",
   "metadata": {},
   "source": [
    "## a. When is beta hat the same when we switch predictor and response?"
   ]
  },
  {
   "cell_type": "markdown",
   "metadata": {},
   "source": [
    "From equation (3.38), $\\hat{\\beta}$ is the same in both cases when\n",
    "\n",
    "$$\\frac{\\sum_i x_iy_i}{\\sum_i x_i^2} = \\frac{\\sum_i y_ix_i}{\\sum_i y_i^2}$$\n",
    "\n",
    "The numerators are always equal, so $\\hat{\\beta}$ is the same iff\n",
    "\n",
    "$$\\sum_i x_i^2 = \\sum_i y_i^2$$"
   ]
  },
  {
   "cell_type": "markdown",
   "metadata": {},
   "source": [
    "## b. Generate a counterexample"
   ]
  },
  {
   "cell_type": "markdown",
   "metadata": {},
   "source": [
    "This is fairly easy to do, since with overwhelming probability\n",
    "\n",
    "$$\\sum_i x_i^2 \\neq \\sum_i y_i^2$$"
   ]
  },
  {
   "cell_type": "code",
   "execution_count": 5,
   "metadata": {},
   "outputs": [],
   "source": [
    "import numpy as np\n",
    "import pandas as pd\n",
    "import statsmodels.api as sm\n",
    "\n",
    "x, y = np.random.normal(size=100), np.random.normal(size=100)\n",
    "\n",
    "model_1 = sm.OLS(y, x).fit()\n",
    "model_2 = sm.OLS(x, y).fit()"
   ]
  },
  {
   "cell_type": "code",
   "execution_count": 7,
   "metadata": {
    "scrolled": true
   },
   "outputs": [
    {
     "data": {
      "text/plain": [
       "False"
      ]
     },
     "execution_count": 7,
     "metadata": {},
     "output_type": "execute_result"
    }
   ],
   "source": [
    "model_1.params[0] == model_2.params[0]"
   ]
  },
  {
   "cell_type": "markdown",
   "metadata": {},
   "source": [
    "## c. Generate an example"
   ]
  },
  {
   "cell_type": "markdown",
   "metadata": {},
   "source": [
    "This is fairly easy to do cheesily by letting `x` = `y`"
   ]
  },
  {
   "cell_type": "code",
   "execution_count": 9,
   "metadata": {},
   "outputs": [],
   "source": [
    "x = np.random.normal(size=100)\n",
    "y = x\n",
    "\n",
    "model_1 = sm.OLS(y, x).fit()\n",
    "model_2 = sm.OLS(x, y).fit()"
   ]
  },
  {
   "cell_type": "code",
   "execution_count": 10,
   "metadata": {},
   "outputs": [
    {
     "data": {
      "text/plain": [
       "True"
      ]
     },
     "execution_count": 10,
     "metadata": {},
     "output_type": "execute_result"
    }
   ],
   "source": [
    "model_1.params[0] == model_2.params[0]"
   ]
  }
 ],
 "metadata": {
  "kernelspec": {
   "display_name": "Python 3",
   "language": "python",
   "name": "python3"
  },
  "language_info": {
   "codemirror_mode": {
    "name": "ipython",
    "version": 3
   },
   "file_extension": ".py",
   "mimetype": "text/x-python",
   "name": "python",
   "nbconvert_exporter": "python",
   "pygments_lexer": "ipython3",
   "version": "3.7.1"
  },
  "latex_envs": {
   "LaTeX_envs_menu_present": true,
   "autoclose": false,
   "autocomplete": true,
   "bibliofile": "biblio.bib",
   "cite_by": "apalike",
   "current_citInitial": 1,
   "eqLabelWithNumbers": true,
   "eqNumInitial": 1,
   "hotkeys": {
    "equation": "Ctrl-E",
    "itemize": "Ctrl-I"
   },
   "labels_anchors": false,
   "latex_user_defs": false,
   "report_style_numbering": false,
   "user_envs_cfg": false
  },
  "toc": {
   "base_numbering": 1,
   "nav_menu": {},
   "number_sections": false,
   "sideBar": false,
   "skip_h1_title": true,
   "title_cell": "Table of Contents",
   "title_sidebar": "Contents",
   "toc_cell": true,
   "toc_position": {
    "height": "65px",
    "left": "1059px",
    "top": "156px",
    "width": "159.359px"
   },
   "toc_section_display": false,
   "toc_window_display": true
  }
 },
 "nbformat": 4,
 "nbformat_minor": 2
}
