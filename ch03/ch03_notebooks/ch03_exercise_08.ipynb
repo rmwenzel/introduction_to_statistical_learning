{
 "cells": [
  {
   "cell_type": "markdown",
   "metadata": {
    "toc": true
   },
   "source": [
    "<h1>Table of Contents<span class=\"tocSkip\"></span></h1>\n",
    "<div class=\"toc\"><ul class=\"toc-item\"><li><span><a href=\"#Preparing-the-dataset\" data-toc-modified-id=\"Preparing-the-dataset-1\">Preparing the dataset</a></span></li><li><span><a href=\"#a.-Fitting-the-model\" data-toc-modified-id=\"a.-Fitting-the-model-2\">a. Fitting the model</a></span><ul class=\"toc-item\"><li><span><a href=\"#i.-Is-there-a-relationship-between-horsepower-and-mpg?\" data-toc-modified-id=\"i.-Is-there-a-relationship-between-horsepower-and-mpg?-2.1\">i. Is there a relationship between <code>horsepower</code> and <code>mpg</code>?</a></span></li><li><span><a href=\"#ii.-How-strong-is-the-relationship?\" data-toc-modified-id=\"ii.-How-strong-is-the-relationship?-2.2\">ii. How strong is the relationship?</a></span></li><li><span><a href=\"#iii.-Is-the-relationship-positive-or-negative?\" data-toc-modified-id=\"iii.-Is-the-relationship-positive-or-negative?-2.3\">iii. Is the relationship positive or negative?</a></span></li><li><span><a href=\"#iv.-What-is-the-predicted-mpg-associated-with-a-horsepower-of-98?-What-are-the-associated-95%-confidence-and-prediction-intervals?\" data-toc-modified-id=\"iv.-What-is-the-predicted-mpg-associated-with-a-horsepower-of-98?-What-are-the-associated-95%-confidence-and-prediction-intervals?-2.4\">iv. What is the predicted <code>mpg</code> associated with a <code>horsepower</code> of 98? What are the associated 95% confidence and prediction intervals?</a></span></li></ul></li><li><span><a href=\"#b.-Scatterplot-and-least-squares-line-plot\" data-toc-modified-id=\"b.-Scatterplot-and-least-squares-line-plot-3\">b. Scatterplot and least squares line plot</a></span></li><li><span><a href=\"#c.-Diagnostic-plots\" data-toc-modified-id=\"c.-Diagnostic-plots-4\">c. Diagnostic plots</a></span><ul class=\"toc-item\"><li><span><a href=\"#Studentized-Residuals-vs.-Fitted-plot\" data-toc-modified-id=\"Studentized-Residuals-vs.-Fitted-plot-4.1\">Studentized Residuals vs. Fitted plot</a></span></li><li><span><a href=\"#QQ-plot-of-Residuals\" data-toc-modified-id=\"QQ-plot-of-Residuals-4.2\">QQ-plot of Residuals</a></span></li><li><span><a href=\"#Scale-location-plot\" data-toc-modified-id=\"Scale-location-plot-4.3\">Scale-location plot</a></span></li><li><span><a href=\"#Influence-Plot\" data-toc-modified-id=\"Influence-Plot-4.4\">Influence Plot</a></span></li></ul></li><li><span><a href=\"#Footnotes\" data-toc-modified-id=\"Footnotes-5\">Footnotes</a></span></li></ul></div>"
   ]
  },
  {
   "cell_type": "markdown",
   "metadata": {},
   "source": [
    "# Simple regression of `mpg` on `horsepower` in `auto` dataset"
   ]
  },
  {
   "cell_type": "markdown",
   "metadata": {},
   "source": [
    "## Preparing the dataset\n",
    "\n",
    "Import pandas, load the `Auto` dataset, and inspect"
   ]
  },
  {
   "cell_type": "code",
   "execution_count": 1,
   "metadata": {},
   "outputs": [
    {
     "data": {
      "text/html": [
       "<div>\n",
       "<style scoped>\n",
       "    .dataframe tbody tr th:only-of-type {\n",
       "        vertical-align: middle;\n",
       "    }\n",
       "\n",
       "    .dataframe tbody tr th {\n",
       "        vertical-align: top;\n",
       "    }\n",
       "\n",
       "    .dataframe thead th {\n",
       "        text-align: right;\n",
       "    }\n",
       "</style>\n",
       "<table border=\"1\" class=\"dataframe\">\n",
       "  <thead>\n",
       "    <tr style=\"text-align: right;\">\n",
       "      <th></th>\n",
       "      <th>mpg</th>\n",
       "      <th>cylinders</th>\n",
       "      <th>displacement</th>\n",
       "      <th>horsepower</th>\n",
       "      <th>weight</th>\n",
       "      <th>acceleration</th>\n",
       "      <th>year</th>\n",
       "      <th>origin</th>\n",
       "      <th>name</th>\n",
       "    </tr>\n",
       "  </thead>\n",
       "  <tbody>\n",
       "    <tr>\n",
       "      <th>0</th>\n",
       "      <td>18.0</td>\n",
       "      <td>8</td>\n",
       "      <td>307.0</td>\n",
       "      <td>130</td>\n",
       "      <td>3504</td>\n",
       "      <td>12.0</td>\n",
       "      <td>70</td>\n",
       "      <td>1</td>\n",
       "      <td>chevrolet chevelle malibu</td>\n",
       "    </tr>\n",
       "    <tr>\n",
       "      <th>1</th>\n",
       "      <td>15.0</td>\n",
       "      <td>8</td>\n",
       "      <td>350.0</td>\n",
       "      <td>165</td>\n",
       "      <td>3693</td>\n",
       "      <td>11.5</td>\n",
       "      <td>70</td>\n",
       "      <td>1</td>\n",
       "      <td>buick skylark 320</td>\n",
       "    </tr>\n",
       "    <tr>\n",
       "      <th>2</th>\n",
       "      <td>18.0</td>\n",
       "      <td>8</td>\n",
       "      <td>318.0</td>\n",
       "      <td>150</td>\n",
       "      <td>3436</td>\n",
       "      <td>11.0</td>\n",
       "      <td>70</td>\n",
       "      <td>1</td>\n",
       "      <td>plymouth satellite</td>\n",
       "    </tr>\n",
       "    <tr>\n",
       "      <th>3</th>\n",
       "      <td>16.0</td>\n",
       "      <td>8</td>\n",
       "      <td>304.0</td>\n",
       "      <td>150</td>\n",
       "      <td>3433</td>\n",
       "      <td>12.0</td>\n",
       "      <td>70</td>\n",
       "      <td>1</td>\n",
       "      <td>amc rebel sst</td>\n",
       "    </tr>\n",
       "    <tr>\n",
       "      <th>4</th>\n",
       "      <td>17.0</td>\n",
       "      <td>8</td>\n",
       "      <td>302.0</td>\n",
       "      <td>140</td>\n",
       "      <td>3449</td>\n",
       "      <td>10.5</td>\n",
       "      <td>70</td>\n",
       "      <td>1</td>\n",
       "      <td>ford torino</td>\n",
       "    </tr>\n",
       "  </tbody>\n",
       "</table>\n",
       "</div>"
      ],
      "text/plain": [
       "    mpg  cylinders  displacement horsepower  weight  acceleration  year  \\\n",
       "0  18.0          8         307.0        130    3504          12.0    70   \n",
       "1  15.0          8         350.0        165    3693          11.5    70   \n",
       "2  18.0          8         318.0        150    3436          11.0    70   \n",
       "3  16.0          8         304.0        150    3433          12.0    70   \n",
       "4  17.0          8         302.0        140    3449          10.5    70   \n",
       "\n",
       "   origin                       name  \n",
       "0       1  chevrolet chevelle malibu  \n",
       "1       1          buick skylark 320  \n",
       "2       1         plymouth satellite  \n",
       "3       1              amc rebel sst  \n",
       "4       1                ford torino  "
      ]
     },
     "execution_count": 1,
     "metadata": {},
     "output_type": "execute_result"
    }
   ],
   "source": [
    "import pandas as pd\n",
    "\n",
    "auto = pd.read_csv('http://www-bcf.usc.edu/~gareth/ISL/Auto.csv')\n",
    "auto.head()"
   ]
  },
  {
   "cell_type": "code",
   "execution_count": 2,
   "metadata": {},
   "outputs": [
    {
     "name": "stdout",
     "output_type": "stream",
     "text": [
      "<class 'pandas.core.frame.DataFrame'>\n",
      "RangeIndex: 397 entries, 0 to 396\n",
      "Data columns (total 9 columns):\n",
      "mpg             397 non-null float64\n",
      "cylinders       397 non-null int64\n",
      "displacement    397 non-null float64\n",
      "horsepower      397 non-null object\n",
      "weight          397 non-null int64\n",
      "acceleration    397 non-null float64\n",
      "year            397 non-null int64\n",
      "origin          397 non-null int64\n",
      "name            397 non-null object\n",
      "dtypes: float64(3), int64(4), object(2)\n",
      "memory usage: 28.0+ KB\n"
     ]
    }
   ],
   "source": [
    "auto.info()"
   ]
  },
  {
   "cell_type": "markdown",
   "metadata": {},
   "source": [
    "All the dtypes look good except `horsepower`."
   ]
  },
  {
   "cell_type": "code",
   "execution_count": 3,
   "metadata": {},
   "outputs": [
    {
     "data": {
      "text/plain": [
       "dtype('float64')"
      ]
     },
     "execution_count": 3,
     "metadata": {},
     "output_type": "execute_result"
    }
   ],
   "source": [
    "auto.horsepower = pd.to_numeric(auto.horsepower, errors='coerce')\n",
    "auto.horsepower.dtype"
   ]
  },
  {
   "cell_type": "markdown",
   "metadata": {},
   "source": [
    "##  a. Fitting the model\n",
    "\n",
    "There are lots of way to [do simple linear regression with Python](https://medium.freecodecamp.org/data-science-with-python-8-ways-to-do-linear-regression-and-measure-their-speed-b5577d75f8b). For statistical analysis, `statsmodel` is useful."
   ]
  },
  {
   "cell_type": "code",
   "execution_count": 4,
   "metadata": {},
   "outputs": [],
   "source": [
    "import statsmodels.api as sm"
   ]
  },
  {
   "cell_type": "code",
   "execution_count": 5,
   "metadata": {},
   "outputs": [
    {
     "data": {
      "text/html": [
       "<table class=\"simpletable\">\n",
       "<caption>OLS Regression Results</caption>\n",
       "<tr>\n",
       "  <th>Dep. Variable:</th>           <td>mpg</td>       <th>  R-squared:         </th> <td>   0.606</td>\n",
       "</tr>\n",
       "<tr>\n",
       "  <th>Model:</th>                   <td>OLS</td>       <th>  Adj. R-squared:    </th> <td>   0.605</td>\n",
       "</tr>\n",
       "<tr>\n",
       "  <th>Method:</th>             <td>Least Squares</td>  <th>  F-statistic:       </th> <td>   599.7</td>\n",
       "</tr>\n",
       "<tr>\n",
       "  <th>Date:</th>             <td>Sat, 27 Oct 2018</td> <th>  Prob (F-statistic):</th> <td>7.03e-81</td>\n",
       "</tr>\n",
       "<tr>\n",
       "  <th>Time:</th>                 <td>08:23:54</td>     <th>  Log-Likelihood:    </th> <td> -1178.7</td>\n",
       "</tr>\n",
       "<tr>\n",
       "  <th>No. Observations:</th>      <td>   392</td>      <th>  AIC:               </th> <td>   2361.</td>\n",
       "</tr>\n",
       "<tr>\n",
       "  <th>Df Residuals:</th>          <td>   390</td>      <th>  BIC:               </th> <td>   2369.</td>\n",
       "</tr>\n",
       "<tr>\n",
       "  <th>Df Model:</th>              <td>     1</td>      <th>                     </th>     <td> </td>   \n",
       "</tr>\n",
       "<tr>\n",
       "  <th>Covariance Type:</th>      <td>nonrobust</td>    <th>                     </th>     <td> </td>   \n",
       "</tr>\n",
       "</table>\n",
       "<table class=\"simpletable\">\n",
       "<tr>\n",
       "       <td></td>         <th>coef</th>     <th>std err</th>      <th>t</th>      <th>P>|t|</th>  <th>[0.025</th>    <th>0.975]</th>  \n",
       "</tr>\n",
       "<tr>\n",
       "  <th>const</th>      <td>   39.9359</td> <td>    0.717</td> <td>   55.660</td> <td> 0.000</td> <td>   38.525</td> <td>   41.347</td>\n",
       "</tr>\n",
       "<tr>\n",
       "  <th>horsepower</th> <td>   -0.1578</td> <td>    0.006</td> <td>  -24.489</td> <td> 0.000</td> <td>   -0.171</td> <td>   -0.145</td>\n",
       "</tr>\n",
       "</table>\n",
       "<table class=\"simpletable\">\n",
       "<tr>\n",
       "  <th>Omnibus:</th>       <td>16.432</td> <th>  Durbin-Watson:     </th> <td>   0.920</td>\n",
       "</tr>\n",
       "<tr>\n",
       "  <th>Prob(Omnibus):</th> <td> 0.000</td> <th>  Jarque-Bera (JB):  </th> <td>  17.305</td>\n",
       "</tr>\n",
       "<tr>\n",
       "  <th>Skew:</th>          <td> 0.492</td> <th>  Prob(JB):          </th> <td>0.000175</td>\n",
       "</tr>\n",
       "<tr>\n",
       "  <th>Kurtosis:</th>      <td> 3.299</td> <th>  Cond. No.          </th> <td>    322.</td>\n",
       "</tr>\n",
       "</table><br/><br/>Warnings:<br/>[1] Standard Errors assume that the covariance matrix of the errors is correctly specified."
      ],
      "text/plain": [
       "<class 'statsmodels.iolib.summary.Summary'>\n",
       "\"\"\"\n",
       "                            OLS Regression Results                            \n",
       "==============================================================================\n",
       "Dep. Variable:                    mpg   R-squared:                       0.606\n",
       "Model:                            OLS   Adj. R-squared:                  0.605\n",
       "Method:                 Least Squares   F-statistic:                     599.7\n",
       "Date:                Sat, 27 Oct 2018   Prob (F-statistic):           7.03e-81\n",
       "Time:                        08:23:54   Log-Likelihood:                -1178.7\n",
       "No. Observations:                 392   AIC:                             2361.\n",
       "Df Residuals:                     390   BIC:                             2369.\n",
       "Df Model:                           1                                         \n",
       "Covariance Type:            nonrobust                                         \n",
       "==============================================================================\n",
       "                 coef    std err          t      P>|t|      [0.025      0.975]\n",
       "------------------------------------------------------------------------------\n",
       "const         39.9359      0.717     55.660      0.000      38.525      41.347\n",
       "horsepower    -0.1578      0.006    -24.489      0.000      -0.171      -0.145\n",
       "==============================================================================\n",
       "Omnibus:                       16.432   Durbin-Watson:                   0.920\n",
       "Prob(Omnibus):                  0.000   Jarque-Bera (JB):               17.305\n",
       "Skew:                           0.492   Prob(JB):                     0.000175\n",
       "Kurtosis:                       3.299   Cond. No.                         322.\n",
       "==============================================================================\n",
       "\n",
       "Warnings:\n",
       "[1] Standard Errors assume that the covariance matrix of the errors is correctly specified.\n",
       "\"\"\""
      ]
     },
     "execution_count": 5,
     "metadata": {},
     "output_type": "execute_result"
    }
   ],
   "source": [
    "# filter out null entries\n",
    "X = auto.horsepower[auto.mpg.notna() & auto.horsepower.notna()]\n",
    "Y = auto.mpg[auto.mpg.notna() & auto.horsepower.notna()]\n",
    "X\n",
    "\n",
    "# add constant\n",
    "X = sm.add_constant(X)\n",
    "\n",
    "# create and fit model\n",
    "model = sm.OLS(Y, X)\n",
    "model = model.fit()\n",
    "\n",
    "# show results summary\n",
    "model.summary()"
   ]
  },
  {
   "cell_type": "markdown",
   "metadata": {},
   "source": [
    "Now to answer the questions\n",
    "\n",
    "### i. Is there a relationship between `horsepower` and `mpg`?\n",
    "\n",
    "This question is answered by testing the hypothesis\n",
    "\n",
    "$$H_0: \\beta_1 = 0$$\n",
    "$$H_a: \\beta_1 \\neq 0$$"
   ]
  },
  {
   "cell_type": "markdown",
   "metadata": {},
   "source": [
    "In the results summary table above, the value `P>|t|` in the row `horsepower` is the p-value for our hypothesis test. Since it's $< 0.5e-3$, we reject $H_0$ and conclude there is a relationship between `mpg` and `hp`\n",
    "\n",
    "### ii. How strong is the relationship?\n",
    "\n",
    "This question is answered by checking the $R^2$ value."
   ]
  },
  {
   "cell_type": "code",
   "execution_count": 6,
   "metadata": {},
   "outputs": [
    {
     "data": {
      "text/plain": [
       "0.6059482578894348"
      ]
     },
     "execution_count": 6,
     "metadata": {},
     "output_type": "execute_result"
    }
   ],
   "source": [
    "model.rsquared"
   ]
  },
  {
   "cell_type": "markdown",
   "metadata": {},
   "source": [
    "It's hard to interpret this based on the current state of my knowledge about the data. Interpretation is discussed on page 70 of the book, but it's not clear where this problem fits into that discussion. \n",
    "\n",
    "Given $\\min(R^2) = 0$ indicates no relationship and $\\max(R^2) = 1$ indicates a perfect (linear) relationship, I'll say this is a somewhat strong relationship.\n",
    "\n",
    "### iii. Is the relationship positive or negative?\n",
    "\n",
    "This is given by the sign of $\\beta_1$"
   ]
  },
  {
   "cell_type": "code",
   "execution_count": 7,
   "metadata": {},
   "outputs": [
    {
     "data": {
      "text/plain": [
       "const         39.935861\n",
       "horsepower    -0.157845\n",
       "dtype: float64"
      ]
     },
     "execution_count": 7,
     "metadata": {},
     "output_type": "execute_result"
    }
   ],
   "source": [
    "model.params"
   ]
  },
  {
   "cell_type": "markdown",
   "metadata": {},
   "source": [
    "Since $\\beta_1 = -0.157845$, the relationship is negative\n",
    "\n",
    "### iv. What is the predicted `mpg` associated with a `horsepower` of 98? What are the associated 95% confidence and prediction intervals?\n"
   ]
  },
  {
   "cell_type": "code",
   "execution_count": 8,
   "metadata": {},
   "outputs": [
    {
     "data": {
      "text/html": [
       "<div>\n",
       "<style scoped>\n",
       "    .dataframe tbody tr th:only-of-type {\n",
       "        vertical-align: middle;\n",
       "    }\n",
       "\n",
       "    .dataframe tbody tr th {\n",
       "        vertical-align: top;\n",
       "    }\n",
       "\n",
       "    .dataframe thead th {\n",
       "        text-align: right;\n",
       "    }\n",
       "</style>\n",
       "<table border=\"1\" class=\"dataframe\">\n",
       "  <thead>\n",
       "    <tr style=\"text-align: right;\">\n",
       "      <th></th>\n",
       "      <th>mean</th>\n",
       "      <th>mean_se</th>\n",
       "      <th>mean_ci_lower</th>\n",
       "      <th>mean_ci_upper</th>\n",
       "      <th>obs_ci_lower</th>\n",
       "      <th>obs_ci_upper</th>\n",
       "    </tr>\n",
       "  </thead>\n",
       "  <tbody>\n",
       "    <tr>\n",
       "      <th>0</th>\n",
       "      <td>24.467077</td>\n",
       "      <td>0.251262</td>\n",
       "      <td>23.973079</td>\n",
       "      <td>24.961075</td>\n",
       "      <td>14.809396</td>\n",
       "      <td>34.124758</td>\n",
       "    </tr>\n",
       "  </tbody>\n",
       "</table>\n",
       "</div>"
      ],
      "text/plain": [
       "        mean   mean_se  mean_ci_lower  mean_ci_upper  obs_ci_lower  \\\n",
       "0  24.467077  0.251262      23.973079      24.961075     14.809396   \n",
       "\n",
       "   obs_ci_upper  \n",
       "0     34.124758  "
      ]
     },
     "execution_count": 8,
     "metadata": {},
     "output_type": "execute_result"
    }
   ],
   "source": [
    "prediction = model.get_prediction([1, 98])\n",
    "pred_df = prediction.summary_frame()\n",
    "pred_df.head()"
   ]
  },
  {
   "cell_type": "markdown",
   "metadata": {},
   "source": [
    "The predicted value for `mpg`=98 is"
   ]
  },
  {
   "cell_type": "code",
   "execution_count": 9,
   "metadata": {},
   "outputs": [
    {
     "data": {
      "text/plain": [
       "0    24.467077\n",
       "Name: mean, dtype: float64"
      ]
     },
     "execution_count": 9,
     "metadata": {},
     "output_type": "execute_result"
    }
   ],
   "source": [
    "pred_df['mean']"
   ]
  },
  {
   "cell_type": "markdown",
   "metadata": {},
   "source": [
    "The confidence interval is"
   ]
  },
  {
   "cell_type": "code",
   "execution_count": 10,
   "metadata": {},
   "outputs": [
    {
     "data": {
      "text/plain": [
       "(23.97307896070394, 24.961075344320907)"
      ]
     },
     "execution_count": 10,
     "metadata": {},
     "output_type": "execute_result"
    }
   ],
   "source": [
    "(pred_df['mean_ci_lower'].values[0], pred_df['mean_ci_upper'].values[0])"
   ]
  },
  {
   "cell_type": "markdown",
   "metadata": {},
   "source": [
    "While the prediction interval is"
   ]
  },
  {
   "cell_type": "code",
   "execution_count": 11,
   "metadata": {},
   "outputs": [
    {
     "data": {
      "text/plain": [
       "(14.809396070967116, 34.12475823405773)"
      ]
     },
     "execution_count": 11,
     "metadata": {},
     "output_type": "execute_result"
    }
   ],
   "source": [
    "(pred_df['obs_ci_lower'].values[0], pred_df['obs_ci_upper'].values[0])"
   ]
  },
  {
   "cell_type": "markdown",
   "metadata": {},
   "source": [
    "## b. Scatterplot and least squares line plot"
   ]
  },
  {
   "cell_type": "code",
   "execution_count": 12,
   "metadata": {},
   "outputs": [],
   "source": [
    "# setup\n",
    "import matplotlib.pyplot as plt\n",
    "import seaborn as sns\n",
    "import numpy as np\n",
    "\n",
    "%matplotlib inline\n",
    "plt.style.use('seaborn-white')\n",
    "sns.set_style('white')"
   ]
  },
  {
   "cell_type": "markdown",
   "metadata": {},
   "source": [
    "For convenience, assemble the results in a new dataframe"
   ]
  },
  {
   "cell_type": "code",
   "execution_count": 13,
   "metadata": {},
   "outputs": [
    {
     "data": {
      "text/html": [
       "<div>\n",
       "<style scoped>\n",
       "    .dataframe tbody tr th:only-of-type {\n",
       "        vertical-align: middle;\n",
       "    }\n",
       "\n",
       "    .dataframe tbody tr th {\n",
       "        vertical-align: top;\n",
       "    }\n",
       "\n",
       "    .dataframe thead th {\n",
       "        text-align: right;\n",
       "    }\n",
       "</style>\n",
       "<table border=\"1\" class=\"dataframe\">\n",
       "  <thead>\n",
       "    <tr style=\"text-align: right;\">\n",
       "      <th></th>\n",
       "      <th>const</th>\n",
       "      <th>horsepower</th>\n",
       "      <th>mpg</th>\n",
       "      <th>mpg_pred</th>\n",
       "      <th>mpg_pred_se</th>\n",
       "      <th>mpg_pred_ci_lower</th>\n",
       "      <th>mpg_pred_ci_upper</th>\n",
       "      <th>mpg_pred_pi_lower</th>\n",
       "      <th>mpg_pred_pi_upper</th>\n",
       "    </tr>\n",
       "  </thead>\n",
       "  <tbody>\n",
       "    <tr>\n",
       "      <th>0</th>\n",
       "      <td>1.0</td>\n",
       "      <td>130.0</td>\n",
       "      <td>18.0</td>\n",
       "      <td>19.416046</td>\n",
       "      <td>0.297444</td>\n",
       "      <td>18.831250</td>\n",
       "      <td>20.000841</td>\n",
       "      <td>9.753295</td>\n",
       "      <td>29.078797</td>\n",
       "    </tr>\n",
       "    <tr>\n",
       "      <th>1</th>\n",
       "      <td>1.0</td>\n",
       "      <td>165.0</td>\n",
       "      <td>15.0</td>\n",
       "      <td>13.891480</td>\n",
       "      <td>0.462181</td>\n",
       "      <td>12.982802</td>\n",
       "      <td>14.800158</td>\n",
       "      <td>4.203732</td>\n",
       "      <td>23.579228</td>\n",
       "    </tr>\n",
       "    <tr>\n",
       "      <th>2</th>\n",
       "      <td>1.0</td>\n",
       "      <td>150.0</td>\n",
       "      <td>18.0</td>\n",
       "      <td>16.259151</td>\n",
       "      <td>0.384080</td>\n",
       "      <td>15.504025</td>\n",
       "      <td>17.014277</td>\n",
       "      <td>6.584598</td>\n",
       "      <td>25.933704</td>\n",
       "    </tr>\n",
       "    <tr>\n",
       "      <th>3</th>\n",
       "      <td>1.0</td>\n",
       "      <td>150.0</td>\n",
       "      <td>16.0</td>\n",
       "      <td>16.259151</td>\n",
       "      <td>0.384080</td>\n",
       "      <td>15.504025</td>\n",
       "      <td>17.014277</td>\n",
       "      <td>6.584598</td>\n",
       "      <td>25.933704</td>\n",
       "    </tr>\n",
       "    <tr>\n",
       "      <th>4</th>\n",
       "      <td>1.0</td>\n",
       "      <td>140.0</td>\n",
       "      <td>17.0</td>\n",
       "      <td>17.837598</td>\n",
       "      <td>0.337403</td>\n",
       "      <td>17.174242</td>\n",
       "      <td>18.500955</td>\n",
       "      <td>8.169775</td>\n",
       "      <td>27.505422</td>\n",
       "    </tr>\n",
       "  </tbody>\n",
       "</table>\n",
       "</div>"
      ],
      "text/plain": [
       "   const  horsepower   mpg   mpg_pred  mpg_pred_se  mpg_pred_ci_lower  \\\n",
       "0    1.0       130.0  18.0  19.416046     0.297444          18.831250   \n",
       "1    1.0       165.0  15.0  13.891480     0.462181          12.982802   \n",
       "2    1.0       150.0  18.0  16.259151     0.384080          15.504025   \n",
       "3    1.0       150.0  16.0  16.259151     0.384080          15.504025   \n",
       "4    1.0       140.0  17.0  17.837598     0.337403          17.174242   \n",
       "\n",
       "   mpg_pred_ci_upper  mpg_pred_pi_lower  mpg_pred_pi_upper  \n",
       "0          20.000841           9.753295          29.078797  \n",
       "1          14.800158           4.203732          23.579228  \n",
       "2          17.014277           6.584598          25.933704  \n",
       "3          17.014277           6.584598          25.933704  \n",
       "4          18.500955           8.169775          27.505422  "
      ]
     },
     "execution_count": 13,
     "metadata": {},
     "output_type": "execute_result"
    }
   ],
   "source": [
    "# get full prediction results\n",
    "pred_df = model.get_prediction().summary_frame()\n",
    "\n",
    "# rename columns to avoid `mean` name conflicts and other confusions\n",
    "new_names = {}\n",
    "for name in pred_df.columns:\n",
    "    if 'mean' in name:\n",
    "        new_names[name] = name.replace('mean', 'mpg_pred')\n",
    "    elif 'obs_ci' in name:\n",
    "        new_names[name] = name.replace('obs_ci', 'mpg_pred_pi')\n",
    "    else:\n",
    "        new_names[name] = name\n",
    "pred_df = pred_df.rename(new_names, axis='columns')\n",
    "\n",
    "# concat mpg, horsepower and prediction results in dataframe\n",
    "model_df = pd.concat([X, Y, pred_df], axis=1)\n",
    "model_df.head()"
   ]
  },
  {
   "cell_type": "code",
   "execution_count": 14,
   "metadata": {},
   "outputs": [
    {
     "data": {
      "text/plain": [
       "<matplotlib.axes._subplots.AxesSubplot at 0x1c2660e940>"
      ]
     },
     "execution_count": 14,
     "metadata": {},
     "output_type": "execute_result"
    },
    {
     "data": {
      "image/png": "[encoded data removed]",
      "text/plain": [
       "<Figure size 432x288 with 1 Axes>"
      ]
     },
     "metadata": {},
     "output_type": "display_data"
    }
   ],
   "source": [
    "# plot\n",
    "sns.scatterplot(model_df.horsepower, model_df.mpg, facecolors='grey', alpha=0.5)\n",
    "sns.lineplot(model_df.horsepower, model_df.mpg_pred, color='r')"
   ]
  },
  {
   "cell_type": "markdown",
   "metadata": {},
   "source": [
    "## c. Diagnostic plots \n",
    "\n",
    "This exercise uses R's [`plot()` function](https://www.rdocumentation.org/packages/graphics/versions/3.5.1/topics/plot), which by default returns [four diagnostic plots](https://data.library.virginia.edu/diagnostic-plots/). We'll recreate those plots in python <sup><a href='#foot0' id='ref0'>0</a></sup>."
   ]
  },
  {
   "cell_type": "markdown",
   "metadata": {
    "heading_collapsed": true
   },
   "source": [
    "### Studentized Residuals vs. Fitted plot\n",
    "\n",
    "This helps identify non-linearity"
   ]
  },
  {
   "cell_type": "code",
   "execution_count": 15,
   "metadata": {
    "hidden": true
   },
   "outputs": [
    {
     "data": {
      "text/plain": [
       "Text(0,0.5,'studentized resid')"
      ]
     },
     "execution_count": 15,
     "metadata": {},
     "output_type": "execute_result"
    },
    {
     "data": {
      "image/png": "[encoded data removed]",
      "text/plain": [
       "<Figure size 432x288 with 1 Axes>"
      ]
     },
     "metadata": {},
     "output_type": "display_data"
    }
   ],
   "source": [
    "# add studentized residuals to the dataframe\n",
    "model_df['resid'] = model.resid\n",
    "\n",
    "# studentized residuals vs. predicted values plot\n",
    "sns.regplot(model_df.mpg_pred, model_df.resid/model_df.resid.std(), lowess=True, \n",
    "            line_kws={'color':'r', 'lw':1},\n",
    "            scatter_kws={'facecolors':'grey', 'edgecolors':'grey', 'alpha':0.4})\n",
    "plt.ylabel('studentized resid')"
   ]
  },
  {
   "cell_type": "markdown",
   "metadata": {
    "hidden": true
   },
   "source": [
    "This is a pretty clear indication of non-inearity (see p93) of text). We can also see some outliers"
   ]
  },
  {
   "cell_type": "markdown",
   "metadata": {
    "heading_collapsed": true
   },
   "source": [
    "### QQ-plot of Residuals\n",
    "\n",
    "This tests the assumption that the errors are normally distributed"
   ]
  },
  {
   "cell_type": "code",
   "execution_count": 16,
   "metadata": {
    "hidden": true
   },
   "outputs": [
    {
     "data": {
      "text/plain": [
       "Text(0.5,0,'standard normal quantiles')"
      ]
     },
     "execution_count": 16,
     "metadata": {},
     "output_type": "execute_result"
    },
    {
     "data": {
      "image/png": "[encoded data removed]",
      "text/plain": [
       "<Figure size 432x288 with 1 Axes>"
      ]
     },
     "metadata": {},
     "output_type": "display_data"
    }
   ],
   "source": [
    "# plot standardized residuals against a standard normal distribution\n",
    "sm.qqplot(model_df.resid/model_df.resid.std(), color='grey', alpha=0.5, xlabel='')\n",
    "plt.ylabel('studentized resid quantiles')\n",
    "plt.xlabel('standard normal quantiles')"
   ]
  },
  {
   "cell_type": "markdown",
   "metadata": {
    "hidden": true
   },
   "source": [
    "In this case there's good agreement with the normality assumption"
   ]
  },
  {
   "cell_type": "markdown",
   "metadata": {
    "heading_collapsed": true
   },
   "source": [
    "### Scale-location plot\n",
    "\n",
    "This tests the assumption of homoscedasticity (equal variance) of the errors"
   ]
  },
  {
   "cell_type": "code",
   "execution_count": 17,
   "metadata": {
    "hidden": true
   },
   "outputs": [
    {
     "data": {
      "text/plain": [
       "Text(0,0.5,'√|studentized resid|')"
      ]
     },
     "execution_count": 17,
     "metadata": {},
     "output_type": "execute_result"
    },
    {
     "data": {
      "image/png": "[encoded data removed]",
      "text/plain": [
       "<Figure size 432x288 with 1 Axes>"
      ]
     },
     "metadata": {},
     "output_type": "display_data"
    }
   ],
   "source": [
    "sns.regplot(model_df.mpg_pred, np.sqrt(np.abs(model_df.resid/model_df.resid.std())), lowess=True, \n",
    "            line_kws={'color':'r', 'lw':1},\n",
    "            scatter_kws={'facecolors':'grey', 'edgecolors':'grey', 'alpha':0.4})\n",
    "plt.ylabel('√|studentized resid|')"
   ]
  },
  {
   "cell_type": "markdown",
   "metadata": {
    "hidden": true
   },
   "source": [
    "In this case, the assumptions seems unjustified."
   ]
  },
  {
   "cell_type": "markdown",
   "metadata": {},
   "source": [
    "### Influence Plot\n",
    "\n",
    "This helps identify influence points, i.e. points with an \"outsize\" effect on the model <sup><a href='#foot1' id='ref1'>1</a></sup>"
   ]
  },
  {
   "cell_type": "code",
   "execution_count": 18,
   "metadata": {},
   "outputs": [
    {
     "data": {
      "text/plain": [
       "[<matplotlib.lines.Line2D at 0x1c269a3320>]"
      ]
     },
     "execution_count": 18,
     "metadata": {},
     "output_type": "execute_result"
    },
    {
     "data": {
      "image/png": "[encoded data removed]",
      "text/plain": [
       "<Figure size 432x288 with 1 Axes>"
      ]
     },
     "metadata": {},
     "output_type": "display_data"
    }
   ],
   "source": [
    "# scatterplot of leverage vs studentized residuals\n",
    "axes = sns.regplot(model.get_influence().hat_matrix_diag, model_df.resid/model_df.resid.std(), \n",
    "            lowess=True, \n",
    "            line_kws={'color':'r', 'lw':1},\n",
    "            scatter_kws={'facecolors':'grey', 'edgecolors':'grey', 'alpha':0.4})\n",
    "plt.xlabel('leverage')\n",
    "plt.ylabel('studentized resid')\n",
    "\n",
    "# plot Cook's distance contours for D = 0.5, D = 1\n",
    "x = np.linspace(axes.get_xlim()[0], axes.get_xlim()[1], 50)\n",
    "plt.plot(x, np.sqrt(0.5*(1 - x)/x), color='red', linestyle='dashed')\n",
    "plt.plot(x, np.sqrt((1 - x)/x), color='red', linestyle='dashed')"
   ]
  },
  {
   "cell_type": "markdown",
   "metadata": {},
   "source": [
    "No point in this plot has both high leverage and high residual, and all the points in this plot are within the Cook's distance contours, so we conclude that there are no high influence points"
   ]
  },
  {
   "cell_type": "markdown",
   "metadata": {
    "heading_collapsed": true
   },
   "source": [
    "## Footnotes\n",
    "\n",
    "\n",
    "<p>\n",
    "</p>\n",
    "\n",
    "<div id=\"foot0\"> 0. [This Medium article](https://medium.com/@emredjan/emulating-r-regression-plots-in-python-43741952c034) addresses the same issue.\n",
    "<a href=\"#ref0\">↩</a>\n",
    "</div>\n",
    "\n",
    "<p>\n",
    "</p>\n",
    "\n",
    "<div id=\"foot1\"> 1. [This Cross-Validated question](https://stats.stackexchange.com/questions/266597/plotting-cooks-distance-lines) was helpful in figuring out how to plot the Cook's distance.\n",
    "<a href=\"#ref1\">↩</a>\n",
    "</div>\n",
    "\n",
    "\n"
   ]
  }
 ],
 "metadata": {
  "kernelspec": {
   "display_name": "Python 3",
   "language": "python",
   "name": "python3"
  },
  "language_info": {
   "codemirror_mode": {
    "name": "ipython",
    "version": 3
   },
   "file_extension": ".py",
   "mimetype": "text/x-python",
   "name": "python",
   "nbconvert_exporter": "python",
   "pygments_lexer": "ipython3",
   "version": "3.7.1"
  },
  "latex_envs": {
   "LaTeX_envs_menu_present": true,
   "autoclose": false,
   "autocomplete": true,
   "bibliofile": "biblio.bib",
   "cite_by": "apalike",
   "current_citInitial": 1,
   "eqLabelWithNumbers": true,
   "eqNumInitial": 1,
   "hotkeys": {
    "equation": "Ctrl-E",
    "itemize": "Ctrl-I"
   },
   "labels_anchors": false,
   "latex_user_defs": false,
   "report_style_numbering": false,
   "user_envs_cfg": false
  },
  "toc": {
   "base_numbering": 1,
   "nav_menu": {
    "height": "198px",
    "width": "541px"
   },
   "number_sections": false,
   "sideBar": false,
   "skip_h1_title": true,
   "title_cell": "Table of Contents",
   "title_sidebar": "Contents",
   "toc_cell": true,
   "toc_position": {
    "height": "47px",
    "left": "801px",
    "top": "140px",
    "width": "159.359px"
   },
   "toc_section_display": false,
   "toc_window_display": true
  }
 },
 "nbformat": 4,
 "nbformat_minor": 2
}
