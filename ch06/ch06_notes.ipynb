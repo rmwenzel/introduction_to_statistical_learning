{
 "cells": [
  {
   "cell_type": "markdown",
   "metadata": {
    "toc": true
   },
   "source": [
    "<h1>Table of Contents<span class=\"tocSkip\"></span></h1>\n",
    "<div class=\"toc\"><ul class=\"toc-item\"><li><span><a href=\"#Linear-Model-Selection-and-Regularization\" data-toc-modified-id=\"Linear-Model-Selection-and-Regularization-6\"><span class=\"toc-item-num\">6&nbsp;&nbsp;</span>Linear Model Selection and Regularization</a></span><ul class=\"toc-item\"><li><span><a href=\"#Subset-Selection\" data-toc-modified-id=\"Subset-Selection-6.1\"><span class=\"toc-item-num\">6.1&nbsp;&nbsp;</span>Subset Selection</a></span><ul class=\"toc-item\"><li><span><a href=\"#Best-Subset-Selection\" data-toc-modified-id=\"Best-Subset-Selection-6.1.1\"><span class=\"toc-item-num\">6.1.1&nbsp;&nbsp;</span>Best Subset Selection</a></span><ul class=\"toc-item\"><li><span><a href=\"#Advantages\" data-toc-modified-id=\"Advantages-6.1.1.1\"><span class=\"toc-item-num\">6.1.1.1&nbsp;&nbsp;</span>Advantages</a></span></li><li><span><a href=\"#Disadvantages\" data-toc-modified-id=\"Disadvantages-6.1.1.2\"><span class=\"toc-item-num\">6.1.1.2&nbsp;&nbsp;</span>Disadvantages</a></span></li></ul></li><li><span><a href=\"#Stepwise-Selection\" data-toc-modified-id=\"Stepwise-Selection-6.1.2\"><span class=\"toc-item-num\">6.1.2&nbsp;&nbsp;</span>Stepwise Selection</a></span><ul class=\"toc-item\"><li><span><a href=\"#Forward-Stepwise-Selection\" data-toc-modified-id=\"Forward-Stepwise-Selection-6.1.2.1\"><span class=\"toc-item-num\">6.1.2.1&nbsp;&nbsp;</span>Forward Stepwise Selection</a></span></li><li><span><a href=\"#Backward-Stepwise-Selection\" data-toc-modified-id=\"Backward-Stepwise-Selection-6.1.2.2\"><span class=\"toc-item-num\">6.1.2.2&nbsp;&nbsp;</span>Backward Stepwise Selection</a></span></li><li><span><a href=\"#Hybrid-Approaches\" data-toc-modified-id=\"Hybrid-Approaches-6.1.2.3\"><span class=\"toc-item-num\">6.1.2.3&nbsp;&nbsp;</span>Hybrid Approaches</a></span></li></ul></li><li><span><a href=\"#Choosing-the-Optimal-Model\" data-toc-modified-id=\"Choosing-the-Optimal-Model-6.1.3\"><span class=\"toc-item-num\">6.1.3&nbsp;&nbsp;</span>Choosing the Optimal Model</a></span><ul class=\"toc-item\"><li><span><a href=\"#$C_p$,-AIC,-BIC-and-Adjusted-$R^2$\" data-toc-modified-id=\"$C_p$,-AIC,-BIC-and-Adjusted-$R^2$-6.1.3.1\"><span class=\"toc-item-num\">6.1.3.1&nbsp;&nbsp;</span>$C_p$, AIC, BIC and Adjusted $R^2$</a></span></li><li><span><a href=\"#Validation-and-Cross-Validation\" data-toc-modified-id=\"Validation-and-Cross-Validation-6.1.3.2\"><span class=\"toc-item-num\">6.1.3.2&nbsp;&nbsp;</span>Validation and Cross-Validation</a></span></li></ul></li></ul></li><li><span><a href=\"#Shrinkage-Methods\" data-toc-modified-id=\"Shrinkage-Methods-6.2\"><span class=\"toc-item-num\">6.2&nbsp;&nbsp;</span>Shrinkage Methods</a></span><ul class=\"toc-item\"><li><span><a href=\"#Ridge-Regression\" data-toc-modified-id=\"Ridge-Regression-6.2.1\"><span class=\"toc-item-num\">6.2.1&nbsp;&nbsp;</span>Ridge Regression</a></span></li><li><span><a href=\"#The-Lasso\" data-toc-modified-id=\"The-Lasso-6.2.2\"><span class=\"toc-item-num\">6.2.2&nbsp;&nbsp;</span>The Lasso</a></span></li><li><span><a href=\"#Selecting-the-Tuning-Parameter\" data-toc-modified-id=\"Selecting-the-Tuning-Parameter-6.2.3\"><span class=\"toc-item-num\">6.2.3&nbsp;&nbsp;</span>Selecting the Tuning Parameter</a></span></li></ul></li><li><span><a href=\"#Dimension-Reduction-Methods\" data-toc-modified-id=\"Dimension-Reduction-Methods-6.3\"><span class=\"toc-item-num\">6.3&nbsp;&nbsp;</span>Dimension Reduction Methods</a></span><ul class=\"toc-item\"><li><span><a href=\"#Principal-Components-Regression\" data-toc-modified-id=\"Principal-Components-Regression-6.3.1\"><span class=\"toc-item-num\">6.3.1&nbsp;&nbsp;</span>Principal Components Regression</a></span></li><li><span><a href=\"#Partial-Least-Squares\" data-toc-modified-id=\"Partial-Least-Squares-6.3.2\"><span class=\"toc-item-num\">6.3.2&nbsp;&nbsp;</span>Partial Least Squares</a></span></li></ul></li><li><span><a href=\"#Considerations-in-High-Dimensions\" data-toc-modified-id=\"Considerations-in-High-Dimensions-6.4\"><span class=\"toc-item-num\">6.4&nbsp;&nbsp;</span>Considerations in High Dimensions</a></span><ul class=\"toc-item\"><li><span><a href=\"#High-Dimensional-Data\" data-toc-modified-id=\"High-Dimensional-Data-6.4.1\"><span class=\"toc-item-num\">6.4.1&nbsp;&nbsp;</span>High-Dimensional Data</a></span></li><li><span><a href=\"#What-Goes-Wrong-in-High-Dimensions?\" data-toc-modified-id=\"What-Goes-Wrong-in-High-Dimensions?-6.4.2\"><span class=\"toc-item-num\">6.4.2&nbsp;&nbsp;</span>What Goes Wrong in High Dimensions?</a></span></li><li><span><a href=\"#Regression-in-High-Dimensions\" data-toc-modified-id=\"Regression-in-High-Dimensions-6.4.3\"><span class=\"toc-item-num\">6.4.3&nbsp;&nbsp;</span>Regression in High Dimensions</a></span></li><li><span><a href=\"#Interpreting-Results-in-High-Dimensions\" data-toc-modified-id=\"Interpreting-Results-in-High-Dimensions-6.4.4\"><span class=\"toc-item-num\">6.4.4&nbsp;&nbsp;</span>Interpreting Results in High Dimensions</a></span></li></ul></li><li><span><a href=\"#Footnotes\" data-toc-modified-id=\"Footnotes-6.5\"><span class=\"toc-item-num\">6.5&nbsp;&nbsp;</span>Footnotes</a></span><ul class=\"toc-item\"><li><span><a href=\"#blah\" data-toc-modified-id=\"blah-6.5.1\"><span class=\"toc-item-num\">6.5.1&nbsp;&nbsp;</span>blah</a></span></li></ul></li></ul></li></ul></div>"
   ]
  },
  {
   "cell_type": "markdown",
   "metadata": {},
   "source": [
    "___\n",
    "# Linear Model Selection and Regularization\n",
    "___"
   ]
  },
  {
   "cell_type": "markdown",
   "metadata": {},
   "source": [
    "Alternatives to the least squares fitting procedures can yield \n",
    "better\n",
    "\n",
    "- prediction accuracy\n",
    "- model interpretability"
   ]
  },
  {
   "cell_type": "markdown",
   "metadata": {},
   "source": [
    "## Subset Selection"
   ]
  },
  {
   "cell_type": "markdown",
   "metadata": {},
   "source": [
    "Methods for selecting a subset of the predictors to improve test performance"
   ]
  },
  {
   "cell_type": "markdown",
   "metadata": {},
   "source": [
    "### Best Subset Selection"
   ]
  },
  {
   "cell_type": "markdown",
   "metadata": {},
   "source": [
    "###### Algorithm: Best Subset Selection (BSS) for linear regression \n"
   ]
  },
  {
   "cell_type": "markdown",
   "metadata": {},
   "source": [
    "1. Let $\\mathcal{M}_0$ denote the null model<sup><a href='#foot35' id='ref35'>35</a></sup>\n",
    "2. For $1 \\leqslant k \\leqslant p$:\n",
    "    1. Fit all $\\binom{p}{k}$ linear regression models with $k$ predictors\n",
    "    2. Let $\\mathcal{M}_k = \\underset{\\text{models}}{\\text{argmin}}\\ RSS$\n",
    "3. Choose the best model $\\mathcal{M}_i, 1 \\leqslant i \\leqslant p$ based on estimated test error <sup><a href='#foot36' id='ref36'>36</a></sup>\n",
    "\n",
    "For logistic regression, in step 2.A., let $\\mathcal{M}_k = \\underset{\\text{models}}{\\text{argmin}}\\ D(y, \\hat{y})$ where $D(y, \\hat{y})$  is the ***deviance***<sup><a href='#foot37' id='ref37'>37</a></sup> of the model"
   ]
  },
  {
   "cell_type": "markdown",
   "metadata": {},
   "source": [
    "#### Advantages"
   ]
  },
  {
   "cell_type": "markdown",
   "metadata": {},
   "source": [
    "- Slightly faster than brute force. Model evaluation is $O(p)$ as opposed to $O(2^p)$ for brute force.\n",
    "- Conceptually simple"
   ]
  },
  {
   "cell_type": "markdown",
   "metadata": {},
   "source": [
    "#### Disadvantages"
   ]
  },
  {
   "cell_type": "markdown",
   "metadata": {},
   "source": [
    "- Still very slow. Fitting is $O(2^p)$ as for brute force\n",
    "- Overfitting and high variance of coefficient estimates when $p$ is large"
   ]
  },
  {
   "cell_type": "markdown",
   "metadata": {},
   "source": [
    "### Stepwise Selection"
   ]
  },
  {
   "cell_type": "markdown",
   "metadata": {},
   "source": [
    "#### Forward Stepwise Selection"
   ]
  },
  {
   "cell_type": "markdown",
   "metadata": {},
   "source": [
    "##### Algorithm: ***Forward Stepwise Selection*** (FSS) for linear regression<sup><a href='#foot38' id='ref38'>38</a></sup>"
   ]
  },
  {
   "cell_type": "markdown",
   "metadata": {},
   "source": [
    "1. Let $\\mathcal{M}_0$ denote the null model\n",
    "2. For $0 \\leqslant k \\leqslant p - 1$:\n",
    "    1. Fit all $p-k$ linear regression models that augment model $\\mathcal{M}_k$ with one additional predictor\n",
    "    2. Let $\\mathcal{M}_{k+1} = \\underset{\\text{models}}{\\text{argmin}}\\ RSS$\n",
    "3. Choose the best model $\\mathcal{M}_i, 1 \\leqslant i \\leqslant p$ based on estimated test error"
   ]
  },
  {
   "cell_type": "markdown",
   "metadata": {},
   "source": [
    "##### Advantages"
   ]
  },
  {
   "cell_type": "markdown",
   "metadata": {},
   "source": [
    "- Faster than BSS. Fitting is $O(p^2)$ and evaluation is $O(p)$\n",
    "- Can be applied in the high-dimensional setting $n < p$"
   ]
  },
  {
   "cell_type": "markdown",
   "metadata": {},
   "source": [
    "##### Disadvantages"
   ]
  },
  {
   "cell_type": "markdown",
   "metadata": {},
   "source": [
    "- Evaluation is more challenging since it compares models with different numbers of predictors.\n",
    "- Searches less of the parameter space, hence may be suboptimal"
   ]
  },
  {
   "cell_type": "markdown",
   "metadata": {},
   "source": [
    "#### Backward Stepwise Selection"
   ]
  },
  {
   "cell_type": "markdown",
   "metadata": {},
   "source": [
    "##### Algorithm: Backward Stepwise Selection (BKSS) for linear regression <sup><a href='#foot39' id='ref39'>39</a></sup> is"
   ]
  },
  {
   "cell_type": "markdown",
   "metadata": {},
   "source": [
    "1. Let $\\mathcal{M}_p$ denote the full model <sup><a href='#foot40' id='ref40'>40</a></sup>\n",
    "2. For $k = p, p-1, \\dots, 1$:\n",
    "    1. Fit all $k$ linear regression models of $k-1$ predictors that contain all but one of the predictors in $\\mathcal{M}_k$.\n",
    "    2. Let $\\mathcal{M}_{k-1} = \\underset{\\text{models}}{\\text{argmin}}\\ RSS$\n",
    "3. Choose the best model $\\mathcal{M}_i, 1 \\leqslant i \\leqslant p$ based on estimated test error "
   ]
  },
  {
   "cell_type": "markdown",
   "metadata": {},
   "source": [
    "##### Advantages"
   ]
  },
  {
   "cell_type": "markdown",
   "metadata": {},
   "source": [
    "- As fast as FSS"
   ]
  },
  {
   "cell_type": "markdown",
   "metadata": {},
   "source": [
    "##### Disadvantages"
   ]
  },
  {
   "cell_type": "markdown",
   "metadata": {},
   "source": [
    "- Same disadvantages as FSS\n",
    "- Cannot be used when $n < p$"
   ]
  },
  {
   "cell_type": "markdown",
   "metadata": {},
   "source": [
    "#### Hybrid Approaches"
   ]
  },
  {
   "cell_type": "markdown",
   "metadata": {},
   "source": [
    "Other approaches exist which may add variables sequentially (as with FSS) but may also remove variables (as with BSS). These methods strike a balance between optimality (e.g. BSS) and speed (FSS/BSS)"
   ]
  },
  {
   "cell_type": "markdown",
   "metadata": {},
   "source": [
    "### Choosing the Optimal Model"
   ]
  },
  {
   "cell_type": "markdown",
   "metadata": {},
   "source": [
    "Two common approaches to estimating the test error:\n",
    "\n",
    "1. Estimate indirectly by adjusting the training error to account for overfitting bias\n",
    "2. Estimate directly using a validation approach"
   ]
  },
  {
   "cell_type": "markdown",
   "metadata": {},
   "source": [
    "#### $C_p$, AIC, BIC and Adjusted $R^2$"
   ]
  },
  {
   "cell_type": "markdown",
   "metadata": {},
   "source": [
    "- Train MSE underestimates test MSE and decreases as $p$ increases, so it cannot be used to select from models with different numbers of predictors. However we may adjust the training error to account for the model size, and use this to estimate the test MSE\n",
    "\n",
    "- For least squares models, the ***$C_p$*** estimate<sup><a href='#foot41' id='ref41'>41</a></sup> of the test MSE for a model with $d$ predictors is\n",
    "$$ C_p = \\frac{1}{n}(RSS + 2d\\hat{\\sigma}^2) $$\n",
    "\n",
    "  where $\\hat{\\sigma} = \\hat{\\mathbb{V}}(\\epsilon)$.\n",
    "\n",
    "- For maximum likelihood models<sup><a href='#foot42' id='ref42'>42</a></sup>, the ***Akaike Information Criterion*** (AIC) estimate of the test MSE is\n",
    "\n",
    "$$ AIC = \\frac{1}{n\\hat{\\sigma}^2}(RSS + 2d\\hat{\\sigma}^2) $$\n",
    "\n",
    "- For least squares models, the ***Bayes Information Criterion*** (BIC) estimate<sup><a href='#foot43' id='ref43'>43</a></sup> of the test MSE is\n",
    "\n",
    "$$ BIC = \\frac{1}{n}(RSS + \\log(n)d\\hat{\\sigma}^2) $$\n",
    "\n",
    "- For least squares models, the ***adjusted $R^2$*** statistic<sup><a href='#foot44' id='ref44'>44</a></sup> is\n",
    "\n",
    "$$AdjR^2 = 1 - \\frac{RSS/(n - d - 1)}{TSS/(n - 1)}$$\n"
   ]
  },
  {
   "cell_type": "markdown",
   "metadata": {},
   "source": [
    "#### Validation and Cross-Validation"
   ]
  },
  {
   "cell_type": "markdown",
   "metadata": {},
   "source": [
    "- Instead using adjusted training error to estimate test error indirectly, we can directly estimate using validation or cross-validation\n",
    "- In the past this was computationally prohibitive but advances in computation have made this method very attractive.\n",
    "- In this approach, we can select a model using the ***one-standard-error*** rule, i.e. selecting the model for which the estimated standard error is within one standard error of the $p$ vs. error curve."
   ]
  },
  {
   "cell_type": "markdown",
   "metadata": {},
   "source": [
    "## Shrinkage Methods"
   ]
  },
  {
   "cell_type": "markdown",
   "metadata": {},
   "source": [
    "Methods for constraining or ***regularizing*** the coefficient estimates, i.e. ***shrinking*** them towards zero. This can significantly reduce their variance."
   ]
  },
  {
   "cell_type": "markdown",
   "metadata": {},
   "source": [
    "### Ridge Regression"
   ]
  },
  {
   "cell_type": "markdown",
   "metadata": {},
   "source": [
    "- Ridge regression introduces an $L^2$-penalty<sup><a href='#foot45' id='ref45'>45</a></sup> for the training error and estimates\n",
    "$$\\hat{\\beta}^R = RSS+\\lambda\\|\\tilde{\\beta}\\|_2^2$$\n",
    "    where $\\lambda$ is a ***tuning parameter***<sup><a href='#foot46' id='ref46'>46</a></sup> and $\\tilde{\\beta} = (\\beta_1, \\dots, \\beta_p)$<sup><a href='#foot47' id='ref47'>47</a></sup>.\n",
    "\n",
    "- The term $\\lambda\\|\\beta\\|_2^2$ is called a ***shrinkage penalty*** \n",
    "\n",
    "- Selecting a good value for $\\lambda$ is critical, see section 6.2.3\n",
    "\n",
    "- Standardizing the predictors $X_i \\mapsto \\frac{X_i - \\mu_i}{s_i}$ is advised."
   ]
  },
  {
   "cell_type": "markdown",
   "metadata": {},
   "source": [
    "##### Advantages"
   ]
  },
  {
   "cell_type": "markdown",
   "metadata": {},
   "source": [
    "- Takes advantage of bias-variance tradeoff by decreasing flexibility <sup><a href='#foot48' id='ref48'>48</a></sup> thus decreasing variance.\n",
    "- Preferable to least squares in situations when the latter has high variance (close to linear relationship, $p \\lesssim n$\n",
    "- In contrast to least squares, works when $p > n$ "
   ]
  },
  {
   "cell_type": "markdown",
   "metadata": {},
   "source": [
    "##### Disadvantages"
   ]
  },
  {
   "cell_type": "markdown",
   "metadata": {},
   "source": [
    "- Lower variance means higher bias.\n",
    "- Will not eliminate any predictors which can be an issue for interpretation when $p$ is large."
   ]
  },
  {
   "cell_type": "markdown",
   "metadata": {},
   "source": [
    "### The Lasso"
   ]
  },
  {
   "cell_type": "markdown",
   "metadata": {},
   "source": [
    "- Lasso regression introduces an $L^1$-penalty <sup><a href='#foot49' id='ref49'>49</a></sup> for the training error and estimates\n",
    "\n",
    "$$\\hat{\\beta}^R = RSS+\\lambda\\|\\tilde{\\beta}\\|^2_1$$"
   ]
  },
  {
   "cell_type": "markdown",
   "metadata": {},
   "source": [
    "##### Advantages"
   ]
  },
  {
   "cell_type": "markdown",
   "metadata": {},
   "source": [
    "- Same advantages as ridge regression.\n",
    "- Improves over ridge regression by yielding ***sparse models*** (i.e. performs variable selection) when $\\lambda$ is sufficiently large"
   ]
  },
  {
   "cell_type": "markdown",
   "metadata": {},
   "source": [
    "##### Disadvantages"
   ]
  },
  {
   "cell_type": "markdown",
   "metadata": {},
   "source": [
    "- Lower variance means higher bias."
   ]
  },
  {
   "cell_type": "markdown",
   "metadata": {},
   "source": [
    "##### Another Formulation for Ridge Regression and the Lasso"
   ]
  },
  {
   "cell_type": "markdown",
   "metadata": {},
   "source": [
    "- Ridge Regression is equivalent to the quadratic optimization problem:\n",
    "\n",
    "\\begin{align}\n",
    "\\min&\\ RSS + \\|\\tilde{\\beta}\\|_2\\\\\n",
    "\\text{s.t.}&\\ \\| \\tilde{\\beta} \\|_2^2 \\leqslant s\n",
    "\\end{align}\n",
    "\n",
    "- Lasso Regression is equivalent to the quadratic optimization problem:\n",
    "\n",
    "\\begin{align}\n",
    "\\min&\\ RSS + \\|\\tilde{\\beta}\\|_1\\\\\n",
    "\\text{s.t.}&\\ \\| \\tilde{\\beta} \\|_1 \\leqslant s\n",
    "\\end{align}"
   ]
  },
  {
   "cell_type": "markdown",
   "metadata": {},
   "source": [
    "##### Bayesian Interpretation for Ridge and Lasso Regression"
   ]
  },
  {
   "cell_type": "markdown",
   "metadata": {},
   "source": [
    "Given Gaussian errors, and simple assumptions on the prior $p(\\beta)$, ridge and lasso regression emerge as solutions\n",
    "\n",
    "- If the $\\beta_i \\sim \\text{Normal}(0, h(\\lambda))$ iid for some function $h=h(\\lambda)$ then the ***posterior mode*** for $\\beta$ (i.e. $\\underset{\\beta}{\\text{argmax}} p(\\beta| X, Y)$) is the ridge regression solution\n",
    "\n",
    "- If the $\\beta_i \\sim \\text{Laplace}(0, h(\\lambda))$ iid then the posterior mode is the lasso regression solution."
   ]
  },
  {
   "cell_type": "markdown",
   "metadata": {},
   "source": [
    "### Selecting the Tuning Parameter"
   ]
  },
  {
   "cell_type": "markdown",
   "metadata": {},
   "source": [
    "Compute the cross-validation error $CV_{(n),i}$ for for a \"grid\" (evenly-spaced discrete set) of values $\\lambda_i$, and choose\n",
    "\n",
    "$$ \\lambda = \\underset{i}{\\text{argmin}\\ CV_{(n),i}}$$"
   ]
  },
  {
   "cell_type": "markdown",
   "metadata": {},
   "source": [
    "## Dimension Reduction Methods"
   ]
  },
  {
   "cell_type": "markdown",
   "metadata": {},
   "source": [
    "- ***Dimension reduction*** methods transform the predictors $X_1, \\dots, X_p$ into a smaller set of predictors \n",
    "  $Z_1, \\dots, Z_M$, $M < p$.\n",
    "  \n",
    "- When $p >> n$, $M << p$ can greatly reduce the variance of the coefficient estimates.\n",
    "\n",
    "- In this section we consider linear transformations \n",
    "\n",
    "  $$Z_m = \\sum_{j = 1}^p \\phi_{jm}X_j$$\n",
    "  \n",
    "  and a least squares regression model\n",
    "  \n",
    "  $$ Y = \\mathbf{Z}\\theta + \\epsilon $$\n",
    "  \n",
    "  where $\\mathbf{Z} = (1,Z_1, \\dots, Z_M)$"
   ]
  },
  {
   "cell_type": "markdown",
   "metadata": {},
   "source": [
    "### Principal Components Regression"
   ]
  },
  {
   "cell_type": "markdown",
   "metadata": {},
   "source": [
    "***Principal Components Analysis*** is a popular unsupervised approach <sup><a href='#foot50' id='ref50'>50</a></sup> that can be used for dimensional reduction"
   ]
  },
  {
   "cell_type": "markdown",
   "metadata": {},
   "source": [
    "##### An Overview of Principal Components Analysis"
   ]
  },
  {
   "cell_type": "markdown",
   "metadata": {},
   "source": [
    "- The ***principal components*** of a data matrix $n\\times p$ matrix $\\mathbf{X}$ can be seen ([among many different perspectives](https://en.wikipedia.org/wiki/Principal_component_analysis)) as the [right singular eigenvectors](https://en.wikipedia.org/wiki/Principal_component_analysis#Computing_PCA_using_the_covariance_method) $v_1, \\dots, v_p$ of the $p\\times p$ sample covariance matrix $C$, i.e. [the eigenvectors of $C^{\\top}C$](https://en.wikipedia.org/wiki/Singular_value_decomposition)) ordered by decreasing absolute value of the corresponding eigenvalues.\n",
    "\n",
    "- Let $\\sigma_1^2,\\dots, \\sigma_k^2$ be the singular values of $C$ ([the squares of the eigenvalues of $C^{\\top}C$](https://people.cs.pitt.ed0u/~milos/courses/cs3750-Fall2007/lectures/PCA.pdf)) and let $v_1, \\dots, v_p$ be the corresponding eigenvectors of $C$. Then $\\sigma_i^2$ is the variance of the data along the direction $v_i$, and $\\sigma_1^2$ is the direction of maximal variance."
   ]
  },
  {
   "cell_type": "markdown",
   "metadata": {},
   "source": [
    "##### The Principal Components Regression Approach"
   ]
  },
  {
   "cell_type": "markdown",
   "metadata": {},
   "source": [
    "- ***Principal Components Regression*** takes $Z_1,\\dots, Z_M$ to be the first $M$ principal components of $\\mathbf{X}$ and then fits a least squares model on these components. \n",
    "- The assumption is that, since the principal components correspond to the directions of greatest variation of the data, they show the most association with $Y$. Furthermore, they are ordered by decreasing magnitude of association.\n",
    "- Typically $M$ is chosen by cross-validation."
   ]
  },
  {
   "cell_type": "markdown",
   "metadata": {},
   "source": [
    "###### Advantages"
   ]
  },
  {
   "cell_type": "markdown",
   "metadata": {},
   "source": [
    "- If the assumption holds then the least squares model on $Z_1, \\dots, Z_M$ will perform better than $X_1, \\dots, X_p$, since it will contain most of the information related to the response <sup><a href='#foot51' id='ref51'>51</a></sup>, and by choosing $M<<p$ we can mitigate overfitting.\n",
    "\n",
    "- Decreased variance of coefficient estimates relative to OLS regression"
   ]
  },
  {
   "cell_type": "markdown",
   "metadata": {},
   "source": [
    "###### Disadvantages"
   ]
  },
  {
   "cell_type": "markdown",
   "metadata": {},
   "source": [
    "- Is not a feature selection method, since each $Z_i$ is a linear function of the predictors"
   ]
  },
  {
   "cell_type": "markdown",
   "metadata": {},
   "source": [
    "###### Recommendations"
   ]
  },
  {
   "cell_type": "markdown",
   "metadata": {},
   "source": [
    "- Data should usually be standarized prior to finding the principal components."
   ]
  },
  {
   "cell_type": "markdown",
   "metadata": {},
   "source": [
    "### Partial Least Squares"
   ]
  },
  {
   "cell_type": "markdown",
   "metadata": {},
   "source": [
    "A supervised dimension reduction method which [proceeds roughly as follows](https://en.wikipedia.org/wiki/Partial_least_squares_regression)\n",
    "\n",
    "- Standardize the variables\n",
    "- Compute $Z_1$ by setting $\\phi_{j1} = \\hat{\\beta_j}$ the ordinary least squares estimate <sup><a href='#foot52' id='ref52'>52</a></sup>\n",
    "- For $ 1 < m < M$, $Z_m$ is determined by\n",
    "    - Adjust the data $X_j = \\epsilon_j$ where $\\epsilon_j$ is the residual from regression of $Z_{m - 1}$ onto $X_j$\n",
    "    - Compute $Z_m$ in the same fashion as $Z_1$ on the adjusted data\n",
    "    \n",
    "As with PCR, $M$ is chosen by cross-validation"
   ]
  },
  {
   "cell_type": "markdown",
   "metadata": {
    "heading_collapsed": true
   },
   "source": [
    "##### Advantages"
   ]
  },
  {
   "cell_type": "markdown",
   "metadata": {
    "hidden": true
   },
   "source": [
    "- Decreased variance of coefficient estimates relative to OLS regression\n",
    "- Supervised dimension reduction may reduce bias"
   ]
  },
  {
   "cell_type": "markdown",
   "metadata": {
    "heading_collapsed": true
   },
   "source": [
    "##### Disadvantages"
   ]
  },
  {
   "cell_type": "markdown",
   "metadata": {
    "hidden": true
   },
   "source": [
    "- May increase variance relative to PCR (which is unsupervised). \n",
    "- May be no better than PCR in practice"
   ]
  },
  {
   "cell_type": "markdown",
   "metadata": {},
   "source": [
    "## Considerations in High Dimensions"
   ]
  },
  {
   "cell_type": "markdown",
   "metadata": {},
   "source": [
    "### High-Dimensional Data"
   ]
  },
  {
   "cell_type": "markdown",
   "metadata": {},
   "source": [
    "Low dimensional means $p << n$, high dimensional is $p \\gtrsim n$"
   ]
  },
  {
   "cell_type": "markdown",
   "metadata": {},
   "source": [
    "### What Goes Wrong in High Dimensions?"
   ]
  },
  {
   "cell_type": "markdown",
   "metadata": {},
   "source": [
    "- If $p \\gtrsim n$, then linear models will create a perfect fit, hence overfit (usually badly)\n",
    "\n",
    "- $C_p$, $AIC$, $BIC$, and $R^2$ approaches don't work in well in this setting"
   ]
  },
  {
   "cell_type": "markdown",
   "metadata": {},
   "source": [
    "### Regression in High Dimensions"
   ]
  },
  {
   "cell_type": "markdown",
   "metadata": {},
   "source": [
    "1. Regularization or shrinkage plays a key role in high-dimensional problems.\n",
    "2. Appropriate tuning parameter selection is crucial for good predictive performance.\n",
    "3. The test error tends to increase as the dimensionality of the problem increases if the additional features aren't truly associated with the response (the curse of dimensionality)"
   ]
  },
  {
   "cell_type": "markdown",
   "metadata": {},
   "source": [
    "### Interpreting Results in High Dimensions"
   ]
  },
  {
   "cell_type": "markdown",
   "metadata": {},
   "source": [
    "- Multicollinearity problem is maximal in high dimensional setting\n",
    "\n",
    "- This makes interpretation difficult, since models obtained from highly multicollinear data fail to identify which features are \"preferred\"\n",
    "\n",
    "- Care must be taken to measure performance <sup><a href='#foot53' id='ref53'>53</a></sup>"
   ]
  },
  {
   "cell_type": "markdown",
   "metadata": {},
   "source": [
    "___\n",
    "## Footnotes"
   ]
  },
  {
   "cell_type": "markdown",
   "metadata": {},
   "source": [
    "<p>\n",
    "</p>\n",
    "\n",
    "<div id=\"foot35\"> 35. This is the model that predicts $\\hat{y} = \\overline{y}$, i.e. $\\hat{\\beta_i} = 0$ for $i > 1$ and $\\hat{\\beta_0} = \\overline{y}$.\n",
    "<a href=\"#ref35\">↩</a>\n",
    "</div>\n",
    "\n",
    "<p>\n",
    "</p>\n",
    "\n",
    "<div id=\"foot36\"> 36. Estimates of test error can come from CV, $C_p (AIC)$, $BIC$ or adjusted $R^2$\n",
    "<a href=\"#ref36\">↩</a>\n",
    "</div>\n",
    "\n",
    "<p>\n",
    "</p>\n",
    "\n",
    "<div id=\"foot37\"> 37. Here $D(y, \\hat{y}) = -2\\log(p(y\\ |\\ \\hat{\\beta})$ where $\\hat{\\beta}$ is the MLE for $\\beta$.The author's definition of deviance can be found in the comment on the [Wikipedia entry](https://en.wikipedia.org/wiki/Deviance_(statistics)\n",
    ") if $\\hat{\\theta}_0$\n",
    "<a href=\"#ref37\">↩</a>\n",
    "</div>\n",
    "\n",
    "<p>\n",
    "</p>\n",
    "\n",
    "<div id=\"foot38\"> 38. As with BSS, we can use FSS for logistic regression by replacing $RSS$ with the deviance in step 2B.\n",
    "<a href=\"#ref38\">↩</a>\n",
    "</div>\n",
    "\n",
    "<p>\n",
    "</p>\n",
    "\n",
    "<div id=\"foot38\"> 39. As with BSS, we can use BackSS for logistic regression by replacing $RSS$ with the deviance in step 2B.\n",
    "<a href=\"#ref38\">↩</a>\n",
    "</div>\n",
    "\n",
    "<p>\n",
    "</p>\n",
    "\n",
    "<div id=\"foot40\"> 40. Here full means contains all $p$ predictors.\n",
    "<a href=\"#ref40\">↩</a>\n",
    "</div>\n",
    "\n",
    "<p>\n",
    "</p>\n",
    "\n",
    "<div id=\"foot41\"> 41. Thus $C_p$ is RSS plus a penalty which depends on the number of predictors and the estimate of the error variance. One can show that if $\\hat{\\sigma}^2$ is unbiased then then $C_p$ is unbiased.\n",
    "<a href=\"#ref41\">↩</a>\n",
    "</div>\n",
    "\n",
    "<p>\n",
    "</p>\n",
    "\n",
    "<div id=\"foot42\"> 42. For Gaussian errors, the least squares estimate is the maximumlikelihood estimate so in that case $C_p$ and $AIC$ are proportional.\n",
    "<a href=\"#ref42\">↩</a>\n",
    "</div>\n",
    "\n",
    "<p>\n",
    "</p>\n",
    "\n",
    "<div id=\"foot43\"> 43. The BIC places a heavier penalty than $C_p$ when $n > 7$ due to the $\\log(n)d\\hat{\\sigma}^2$ term. The book says this means BIC places a heavier penalty than $C_p$ on models with many variables although this isn't clear. It would seem it places a penalty on large numbers of observation (unless somehow larger numbers of observations are correlated with larger numbers of predictors).\n",
    "<a href=\"#ref43\">↩</a>\n",
    "</div>\n",
    "\n",
    "<p>\n",
    "</p>\n",
    "\n",
    "<div id=\"foot44\"> 44. $C_p, AIC$ and $BIC$ are all estimates of the test $MSE$ so smaller values are better. By contrast, larger values of adjusted $R^2$, but this is equivalent to minimizing $RSS/(n - d - 1)$ which likely can be thought of as a test MSE estimate.\n",
    "    \n",
    "Note that curiously, adjusted $R^2$ is not defined when $d = n - 1$.\n",
    "<a href=\"#ref44\">↩</a>\n",
    "</div>\n",
    "\n",
    "<p>\n",
    "</p>\n",
    "\n",
    "<div id=\"foot45\"> 45. Here $L^2$ is a reference to the [$L^p$ norm](https://en.wikipedia.org/wiki/Lp_space) (denoted $\\| \\cdot \\|_2$) when $p=2$ (see also p216), which is just the standard Euclidean norm.\n",
    "<a href=\"#ref45\">↩</a>\n",
    "</div>\n",
    "\n",
    "<p>\n",
    "</p>\n",
    "\n",
    "<div id=\"foot46\"> 46. The tuning parameter $\\lambda$ is actually a Lagrange multiplier used to turn the constrained optimization problem\n",
    "    \n",
    "$$\n",
    "\\begin{align}\n",
    "\\min&\\ RSS\\\\\n",
    "\\text{s.t.}&\\ \\| \\tilde{\\beta} \\|_2^2 \\leqslant s\n",
    "\\end{align}\n",
    "$$\n",
    "\n",
    "into the unconstrained optimization problem\n",
    "\n",
    "$$\n",
    "\\begin{align}\n",
    "\\min&\\ RSS + \\lambda\\| \\tilde{\\beta} \\|_2^2\n",
    "\\end{align}\n",
    "$$\n",
    "\n",
    "see [this section](#Another-Formulation-for-Ridge-Regression-and-the-Lasso)\n",
    "<a href=\"#ref46\">↩</a>\n",
    "</div>\n",
    "\n",
    "<p>\n",
    "</p>\n",
    "\n",
    "<div id=\"foot47\"> 47. We use $\\tilde{\\beta}$ instead of $\\beta$ because we don't want to shrink the intercept $\\beta_0$. If the data have been centered about their mean then $\\hat{\\beta}_0 = \\overline{y}$\n",
    "<a href=\"#ref47\">↩</a>\n",
    "</div>\n",
    "\n",
    "<p>\n",
    "</p>\n",
    "\n",
    "<div id=\"foot48\"> 48. Flexibility decreases because the shrinkage penalty effectively decreases the size of the parameter space?\n",
    "<a href=\"#ref48\">↩</a>\n",
    "</div>\n",
    "\n",
    "<p>\n",
    "</p>\n",
    "\n",
    "<div id=\"foot49\"> 49. The [$L^1$ norm](https://en.wikipedia.org/wiki/Taxicab_geometry) is $\\|\\tilde{\\beta}\\|_1 = \\sum_{i=1}^p |\\beta_p|$\n",
    "<a href=\"#ref49\">↩</a>\n",
    "</div>\n",
    "\n",
    "<p>\n",
    "</p>\n",
    "\n",
    "<div id=\"foot50\"> 50. Unsupervised since it only takes the predictors $\\mathbf{X}$ and not the response $\\mathbf{Y}$ as input.\n",
    "<a href=\"#ref50\">↩</a>\n",
    "</div>\n",
    "\n",
    "<p>\n",
    "</p>\n",
    "\n",
    "<div id=\"foot51\"> 51. Under certain assumptions, PCA is an [optimal dimension reduction method from an information theoretic perspective](https://en.wikipedia.org/wiki/Principal_component_analysis#PCA_and_information_theory)\n",
    "<a href=\"#ref51\">↩</a>\n",
    "</div>\n",
    "\n",
    "\n",
    "<p>\n",
    "</p>\n",
    "\n",
    "<div id=\"foot52\"> 52. One can show that $\\hat{\\beta}_j \\sim \\text{corr}(Y, X_j)$, so $Z_1$  effectively weights the variables by correlation.\n",
    "    \n",
    "The intuition is, that at each iteration, the residuals (hence the variable $Z_m$) contain information not accounted for by the previous variable $Z_{m - 1}$.\n",
    "<a href=\"#ref52\">↩</a>\n",
    "</div>\n",
    "\n",
    "<p>\n",
    "</p>\n",
    "\n",
    "<div id=\"foot53\"> 53. For example SSE, $p$-values, and $R^2$ statistics from the training data are useless in this setting. Thus it is important to e.g. evaluate performance on an independent test set or use [resampling methods](#Resampling-Methods)\n",
    "<a href=\"#ref53\">↩</a>\n",
    "</div>\n",
    "\n",
    "    \n",
    "     "
   ]
  },
  {
   "cell_type": "markdown",
   "metadata": {},
   "source": [
    "### blah"
   ]
  },
  {
   "cell_type": "code",
   "execution_count": null,
   "metadata": {},
   "outputs": [],
   "source": []
  }
 ],
 "metadata": {
  "kernelspec": {
   "display_name": "Python 3",
   "language": "python",
   "name": "python3"
  },
  "language_info": {
   "codemirror_mode": {
    "name": "ipython",
    "version": 3
   },
   "file_extension": ".py",
   "mimetype": "text/x-python",
   "name": "python",
   "nbconvert_exporter": "python",
   "pygments_lexer": "ipython3",
   "version": "3.7.1"
  },
  "latex_envs": {
   "LaTeX_envs_menu_present": true,
   "autoclose": false,
   "autocomplete": true,
   "bibliofile": "biblio.bib",
   "cite_by": "apalike",
   "current_citInitial": 1,
   "eqLabelWithNumbers": true,
   "eqNumInitial": 1,
   "hotkeys": {
    "equation": "Ctrl-E",
    "itemize": "Ctrl-I"
   },
   "labels_anchors": false,
   "latex_user_defs": false,
   "report_style_numbering": false,
   "user_envs_cfg": false
  },
  "toc": {
   "base_numbering": "6",
   "nav_menu": {},
   "number_sections": true,
   "sideBar": false,
   "skip_h1_title": false,
   "title_cell": "Table of Contents",
   "title_sidebar": "Contents",
   "toc_cell": true,
   "toc_position": {
    "height": "541px",
    "left": "934px",
    "top": "142px",
    "width": "256px"
   },
   "toc_section_display": false,
   "toc_window_display": true
  }
 },
 "nbformat": 4,
 "nbformat_minor": 2
}
