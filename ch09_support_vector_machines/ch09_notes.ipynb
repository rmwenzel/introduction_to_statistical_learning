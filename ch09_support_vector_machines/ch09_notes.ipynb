{
 "cells": [
  {
   "cell_type": "markdown",
   "metadata": {
    "toc": true
   },
   "source": [
    "<h1>Table of Contents<span class=\"tocSkip\"></span></h1>\n",
    "<div class=\"toc\"><ul class=\"toc-item\"><li><span><a href=\"#Support-Vector-Machines\" data-toc-modified-id=\"Support-Vector-Machines-9\"><span class=\"toc-item-num\">9&nbsp;&nbsp;</span>Support Vector Machines</a></span><ul class=\"toc-item\"><li><span><a href=\"#Maximal-Margin-Classifier\" data-toc-modified-id=\"Maximal-Margin-Classifier-9.1\"><span class=\"toc-item-num\">9.1&nbsp;&nbsp;</span>Maximal Margin Classifier</a></span><ul class=\"toc-item\"><li><span><a href=\"#What-Is-a-Hyperplane?\" data-toc-modified-id=\"What-Is-a-Hyperplane?-9.1.1\"><span class=\"toc-item-num\">9.1.1&nbsp;&nbsp;</span>What Is a Hyperplane?</a></span></li><li><span><a href=\"#Classification-Using-a-Separating-Hyperplane\" data-toc-modified-id=\"Classification-Using-a-Separating-Hyperplane-9.1.2\"><span class=\"toc-item-num\">9.1.2&nbsp;&nbsp;</span>Classification Using a Separating Hyperplane</a></span></li><li><span><a href=\"#The-Maximal-Margin-Classifier\" data-toc-modified-id=\"The-Maximal-Margin-Classifier-9.1.3\"><span class=\"toc-item-num\">9.1.3&nbsp;&nbsp;</span>The Maximal Margin Classifier</a></span></li><li><span><a href=\"#Construction-of-the-Maximal-Margin-Classifier\" data-toc-modified-id=\"Construction-of-the-Maximal-Margin-Classifier-9.1.4\"><span class=\"toc-item-num\">9.1.4&nbsp;&nbsp;</span>Construction of the Maximal Margin Classifier</a></span></li><li><span><a href=\"#The-Non-separable-Case\" data-toc-modified-id=\"The-Non-separable-Case-9.1.5\"><span class=\"toc-item-num\">9.1.5&nbsp;&nbsp;</span>The Non-separable Case</a></span></li></ul></li><li><span><a href=\"#Support-Vector-Classifiers\" data-toc-modified-id=\"Support-Vector-Classifiers-9.2\"><span class=\"toc-item-num\">9.2&nbsp;&nbsp;</span>Support Vector Classifiers</a></span><ul class=\"toc-item\"><li><span><a href=\"#Overview-of-the-Support-Vector-Classifier\" data-toc-modified-id=\"Overview-of-the-Support-Vector-Classifier-9.2.1\"><span class=\"toc-item-num\">9.2.1&nbsp;&nbsp;</span>Overview of the Support Vector Classifier</a></span></li><li><span><a href=\"#Details-of-the-Support-Vector-Classifier\" data-toc-modified-id=\"Details-of-the-Support-Vector-Classifier-9.2.2\"><span class=\"toc-item-num\">9.2.2&nbsp;&nbsp;</span>Details of the Support Vector Classifier</a></span></li></ul></li><li><span><a href=\"#Support-Vector-Machines\" data-toc-modified-id=\"Support-Vector-Machines-9.3\"><span class=\"toc-item-num\">9.3&nbsp;&nbsp;</span>Support Vector Machines</a></span><ul class=\"toc-item\"><li><span><a href=\"#Classification-with-Non-Linear-Decision-Boundaries\" data-toc-modified-id=\"Classification-with-Non-Linear-Decision-Boundaries-9.3.1\"><span class=\"toc-item-num\">9.3.1&nbsp;&nbsp;</span>Classification with Non-Linear Decision Boundaries</a></span></li><li><span><a href=\"#The-Support-Vector-Machine\" data-toc-modified-id=\"The-Support-Vector-Machine-9.3.2\"><span class=\"toc-item-num\">9.3.2&nbsp;&nbsp;</span>The Support Vector Machine</a></span></li></ul></li><li><span><a href=\"#SVMs-with-More-than-Two-Classes\" data-toc-modified-id=\"SVMs-with-More-than-Two-Classes-9.4\"><span class=\"toc-item-num\">9.4&nbsp;&nbsp;</span>SVMs with More than Two Classes</a></span><ul class=\"toc-item\"><li><span><a href=\"#One-Versus-One-Classification\" data-toc-modified-id=\"One-Versus-One-Classification-9.4.1\"><span class=\"toc-item-num\">9.4.1&nbsp;&nbsp;</span>One-Versus-One Classification</a></span></li><li><span><a href=\"#One-Versus-All-Classification\" data-toc-modified-id=\"One-Versus-All-Classification-9.4.2\"><span class=\"toc-item-num\">9.4.2&nbsp;&nbsp;</span>One-Versus-All Classification</a></span></li></ul></li><li><span><a href=\"#Relationship-to-Logistic-Regression\" data-toc-modified-id=\"Relationship-to-Logistic-Regression-9.5\"><span class=\"toc-item-num\">9.5&nbsp;&nbsp;</span>Relationship to Logistic Regression</a></span></li><li><span><a href=\"#Footnotes\" data-toc-modified-id=\"Footnotes-9.6\"><span class=\"toc-item-num\">9.6&nbsp;&nbsp;</span>Footnotes</a></span></li></ul></li></ul></div>"
   ]
  },
  {
   "cell_type": "markdown",
   "metadata": {},
   "source": [
    "___\n",
    "# Support Vector Machines\n",
    "___"
   ]
  },
  {
   "cell_type": "markdown",
   "metadata": {},
   "source": [
    "## Maximal Margin Classifier"
   ]
  },
  {
   "cell_type": "markdown",
   "metadata": {},
   "source": [
    "### What Is a Hyperplane?"
   ]
  },
  {
   "cell_type": "markdown",
   "metadata": {},
   "source": [
    "- A ***hyperplane*** in $\\mathbb{R}^p$ is an affine subspace of dimension $p-1$. Every hyperplane is the set of solutions $X$ to $\\beta^\\top X = 0$ for some $\\beta\\in\\mathbb{R}^p$. \n",
    "- A hyperplane $\\beta^\\top X = 0$ partitions $\\mathbb{R}^p$ into two halfspaces:\n",
    "\n",
    "$$H_+ = \\{X\\in\\mathbb{R}^p\\ |\\ \\beta^\\top X > 0\\}$$\n",
    "$$H_- = \\{X\\in\\mathbb{R}^p\\ |\\ \\beta^\\top X > 0\\}$$\n",
    "  \n",
    "  corresponding to either side of the plane, or equivalently, \n",
    "\n",
    "$$H_+ = \\{X\\in\\mathbb{R}^p\\ |\\ \\text{sgn}(\\beta^\\top X) =  1\\}$$\n",
    "$$H_- = \\{X\\in\\mathbb{R}^p\\ |\\ \\text{sgn}(\\beta^\\top X) =  -1\\}$$"
   ]
  },
  {
   "cell_type": "markdown",
   "metadata": {},
   "source": [
    "### Classification Using a Separating Hyperplane"
   ]
  },
  {
   "cell_type": "markdown",
   "metadata": {},
   "source": [
    "- Given data $(x_i, y_i)$, $i = 1,\\dots n$ with response classes $y_i \\in \\{ \\pm 1\\}$, a hyperplane $\\beta^\\top X = 0$ is ***separating*** if \n",
    "\n",
    "$$\\text{sgn}(\\beta^\\top x_i) = y_i$$ \n",
    "\n",
    "for all $i$.\n",
    "- Given a separating hyperplane, we may predict \n",
    "\n",
    "$$\\hat{y}_i = \\text{sgn}(\\beta^\\top x_i)$$"
   ]
  },
  {
   "cell_type": "markdown",
   "metadata": {},
   "source": [
    "### The Maximal Margin Classifier"
   ]
  },
  {
   "cell_type": "markdown",
   "metadata": {},
   "source": [
    "- Separating hyperplanes are not unique (if one exists then uncountably many exist). A natural choice is the ***maximal margin hyperplane*** (or ***optimal separating hyperplane***)\n",
    "\n",
    "- The ***margin*** is the minimal perpendicular distance to the hyperplane over the sample points\n",
    "$$ M = \\underset{i}{\\min}\\{\\ ||x_i - P x_i||\\ \\}$$\n",
    "  where $P$ is the projection matrix onto the hyperplane.\n",
    "\n",
    "- The points $(x_i, y_i)$ \"on the margin\" (where $||x_i - P x_i|| = M$) are called ***support vectors***"
   ]
  },
  {
   "cell_type": "markdown",
   "metadata": {},
   "source": [
    "### Construction of the Maximal Margin Classifier"
   ]
  },
  {
   "cell_type": "markdown",
   "metadata": {},
   "source": [
    "The maximal margin classifier is the solution to the optimization problem:\n",
    "\n",
    "\\begin{align*}\n",
    "\\underset{\\boldsymbol{\\beta}}{\\text{argmax}}&\\ M\\\\\n",
    "\\text{subject to}&\\ ||\\,\\boldsymbol{\\beta}\\,|| = 1\\\\\n",
    "& \\mathbf{y}^\\top(X\\boldsymbol{\\beta}) \\geqslant \\mathbf{M}\\\\\n",
    "\\end{align*}\n",
    "\n",
    "  where $\\mathbf{M} = (M, \\dots, M) \\in \\mathbb{R}^n$ <sup><a href='#foot78' id='ref78'> 78 </a></sup>\n"
   ]
  },
  {
   "cell_type": "markdown",
   "metadata": {},
   "source": [
    "### The Non-separable Case"
   ]
  },
  {
   "cell_type": "markdown",
   "metadata": {},
   "source": [
    "- The maximal margin classifier is a natural classifier, but a separating hyperplane is not guaranteed to exist\n",
    "\n",
    "- If a separating hyperplane doesn't exist, we can choose an \"almost\" separating hyperplane by using a \"soft\" margin."
   ]
  },
  {
   "cell_type": "markdown",
   "metadata": {},
   "source": [
    "## Support Vector Classifiers"
   ]
  },
  {
   "cell_type": "markdown",
   "metadata": {},
   "source": [
    "### Overview of the Support Vector Classifier"
   ]
  },
  {
   "cell_type": "markdown",
   "metadata": {},
   "source": [
    "- Separating hyperplanes don't always exist, and even if they do, they may be undesirable. \n",
    "\n",
    "- The distance to the hyperplane can be thought of as a measure of confidence in the classification. For very small margins, the separating hyperplane is very sensitive to individual observations -- we have low confidence in the classification of nearby observations.\n",
    "\n",
    "- In these situations, we may prefer a hyperplane that doesn't perfectly separate in the interest of:\n",
    "    - Greater robustness to individual observations\n",
    "    - Better classification of most of the training observations\n",
    "\n",
    "- This is achieved by the ***support vector classifier*** or ***soft margin classifier*** <sup><a href='#foot79' id='ref79'> 79 </a></sup>\n"
   ]
  },
  {
   "cell_type": "markdown",
   "metadata": {},
   "source": [
    "### Details of the Support Vector Classifier"
   ]
  },
  {
   "cell_type": "markdown",
   "metadata": {},
   "source": [
    "- The support vector classifier is the solution to the optimization problem:\n",
    "\n",
    "\\begin{align*}\n",
    "\\underset{\\boldsymbol{\\beta}}{\\text{argmax}}&\\ M\\\\\n",
    "\\text{subject to}&\\ ||\\,\\boldsymbol{\\beta}\\,|| = 1\\\\\n",
    "& y_i(\\boldsymbol{\\beta}^\\top x_i) \\geqslant M(1-\\epsilon_i)\\\\\n",
    "& \\epsilon_i \\geqslant 0\\\\\n",
    "& \\sum_i \\epsilon_i \\leqslant C\n",
    "\\end{align*}\n",
    "\n",
    "\n",
    "  where $C \\geqslant 0$ is a tuning parameter, $M$ is the margin, and the $\\epsilon_i$ are slack variables.<sup><a href='#foot80' id='ref80'> 80 </a></sup>\n",
    "\n",
    "- Observations on the margin or on the wrong side of the margin are called ***support vectors***"
   ]
  },
  {
   "cell_type": "markdown",
   "metadata": {},
   "source": [
    "## Support Vector Machines"
   ]
  },
  {
   "cell_type": "markdown",
   "metadata": {},
   "source": [
    "### Classification with Non-Linear Decision Boundaries"
   ]
  },
  {
   "cell_type": "markdown",
   "metadata": {},
   "source": [
    "- The support vector classifier is a natural choice for two response classes when the class boundary is linear, but may perform poorly when the boundary is non-linear.\n",
    "\n",
    "- Non-linear transformations of the features will lead to a non-linear class boundary, but enlarging the feature space too much can lead to intractable computations.\n",
    "\n",
    "- The support vector machine enlarges the feature space in a way which is computationally efficient."
   ]
  },
  {
   "cell_type": "markdown",
   "metadata": {},
   "source": [
    "### The Support Vector Machine"
   ]
  },
  {
   "cell_type": "markdown",
   "metadata": {},
   "source": [
    "- It can be shown that:\n",
    "  - the linear support vector classifier is a model of the form $$f(x) = \\beta_0 + \\sum_{i = 1}^n \\alpha_i \\langle x, x_i\\rangle $$\n",
    "  - the parameter estimates $\\hat{\\alpha}_i, \\hat{\\beta}_0$ can be computed from the $\\binom{n}{2}$ inner products $\\langle x, x_i \\rangle$\n",
    "\n",
    "- The support vector machine is a model of the form \n",
    "$$f(x) = \\beta_0 + \\sum_{i = 1}^n \\alpha_i K(x, x_i) $$\n",
    "where $K$ is a ***kernel function*** <sup><a href='#foot81' id='ref81'> 81 </a></sup>\n",
    "\n",
    "- Popular kernels <sup><a href='#foot82' id='ref82'> 82 </a></sup> are\n",
    "    - The ***polynomial kernel***\n",
    "    $$K(x_i, x_i') = (1 + x_i^\\top x_i')^d$$\n",
    "    - The ***radial kernel***\n",
    "    $$K(x_i, x_i') = \\exp(-\\gamma\\,||x_i - x_i'||^2)$$\n",
    "    "
   ]
  },
  {
   "cell_type": "markdown",
   "metadata": {},
   "source": [
    "## SVMs with More than Two Classes"
   ]
  },
  {
   "cell_type": "markdown",
   "metadata": {},
   "source": [
    "### One-Versus-One Classification"
   ]
  },
  {
   "cell_type": "markdown",
   "metadata": {},
   "source": [
    "This approach works as follows:\n",
    "  1. Fit $\\binom{K}{2}$ SVMs, one for each pair of classes $k,k'$ encoded as $\\pm 1$, respectively.\n",
    "  2. For each observation $x$, classify using each of the predictors in 1, and let $N_k$ be the number of times $x$ was assigned to class $k$.\n",
    "  3. Predict \n",
    "  $$ \\hat{f}(x) = \\underset{k}{\\text{argmax}}\\, N_k$$"
   ]
  },
  {
   "cell_type": "markdown",
   "metadata": {},
   "source": [
    "### One-Versus-All Classification"
   ]
  },
  {
   "cell_type": "markdown",
   "metadata": {},
   "source": [
    "This approach works as follows:\n",
    "  1. Fit $K$ SVMs, comparing each class $k$ to other $K-1$ classes, encoded as $\\pm 1$, respectively. Let $\\beta_k (\\beta_{0k}, \\dots, \\beta_{pk})$ be resulting parameters.\n",
    "  2. Predict \n",
    "  $$\\hat{f}(x) = \\underset{k}{\\text{argmax}}\\, \\beta_k^\\top x$$"
   ]
  },
  {
   "cell_type": "markdown",
   "metadata": {},
   "source": [
    "## Relationship to Logistic Regression"
   ]
  },
  {
   "cell_type": "markdown",
   "metadata": {},
   "source": [
    "- The optimization problem leading to the support vector classifier can be rewritten as\n",
    "$$\\underset{\\beta}{\\text{argmin}}\\left(\\sum_{i = 1}^n \\max\\{0, 1 - y_i(\\beta^\\top x_i)\\} + \\lambda\\,||\\beta||^2\\right)$$\n",
    " where $\\lambda \\geqslant 0 $ is a tuning parameter<sup><a href='#foot83' id='ref83'> 83 </a></sup>.\n",
    "- The hinge loss <sup><a href='#foot84' id='ref84'> 84 </a></sup> is very similar to the logistic regression loss, so both methods tend to give similar results. However, SVMs tend to perform better when the classes are well separated, while logistic regression tends to perform better when they are not."
   ]
  },
  {
   "cell_type": "markdown",
   "metadata": {},
   "source": [
    "___\n",
    "## Footnotes"
   ]
  },
  {
   "cell_type": "markdown",
   "metadata": {},
   "source": [
    "<p>\n",
    "</p>\n",
    "\n",
    "<div id=\"foot78\"> 78. The constraint $|| \\boldsymbol{\\beta} || = 1$ ensures that the perpendicular distance $||x_i - P x_i||$ is given by $y_i(\\beta^\\top x_i)$.\n",
    "<a href=\"#ref78\">↩</a>\n",
    "</div>\n",
    "\n",
    "<p>\n",
    "</p>\n",
    "\n",
    "<div id=\"foot79\"> 79. Sometimes the maximal margin and support vector classifiers are called \"hard margin\" and \"soft margin\" support vector classifiers, respectively.\n",
    "<a href=\"#ref79\">↩</a>\n",
    "</div>\n",
    "\n",
    "<p>\n",
    "</p>\n",
    "\n",
    "<div id=\"foot80\"> 80. For each $i$, if $\\epsilon_i = 0$ the $i$-th observation is on the correct side of the margin. If $\\epsilon_i > 0$ then it is on the wrong side of the margin, and if $\\epsilon_i > 1$ then it is on the wrong side of the hyperplane. The parameter $C$ is a \"margin violation tolerance\" -- it bounds the $\\epsilon_i$ and thus the number/size of margin violations. Greater $C$ implies greater tolerance. The case $C = 0$ is the maximal margin hyperplane.\n",
    "<a href=\"#ref80\">↩</a>\n",
    "</div>\n",
    "\n",
    "<p>\n",
    "</p>\n",
    "\n",
    "<div id=\"foot81\"> 81.In this context a kernel function is <a href='https://en.wikipedia.org/wiki/Positive-definite_kernel'> a positive-definite kernel </a>. Among other things, it is a generalization of an inner product (every inner product $\\langle x, y \\rangle$ is a kernel function), and is one way of quantifying similarity between points.\\\\\n",
    "    \n",
    "In the context of statistical and machine learning, a \n",
    "<a href='https://en.wikipedia.org/wiki/Kernel_method'> kernel method </a> is one which makes use of the \"kernel trick\". The kernel function $K(x_i, x_i')$ encodes the similarity of the observations $x_i, x_i'$ in a transformed feature space, but it is more computationally efficient to compute the $\\binom{n}{k}$ kernels themselves than to transform the data. The kernel fits a support vector classifier (hence a linear classification boundary) in the transformed feature space, which corresponds to a non-linear boundary in the original feature space. \n",
    "</div>\n",
    "\n",
    "<p>\n",
    "</p>\n",
    "\n",
    "<div id=\"foot82\"> 82. The <a href='https://en.wikipedia.org/wiki/Polynomial_kernel'>polynomial kernel </a> is effectively the inner product on the space of $d$-degree polynomials in the features $X_j$. The <a href='https://en.wikipedia.org/wiki/Radial_basis_function_kernel'>radial kernel</a> is a similarity measure in an infinite dimensional feature space.\n",
    "</div>\n",
    "\n",
    "<p>\n",
    "</p>\n",
    "\n",
    "<div id=\"foot83\"> 83. This is another instance of a general form of a \"regularized loss\" or \"loss + penalty\"\n",
    "    \n",
    "$$\\underset{\\beta}{\\text{argmin}}L(\\mathbf{X}, \\mathbf{y}, \\beta) + \\lambda P(\\beta)$$\n",
    "where the loss function $L(\\mathbf{X}, \\mathbf{y}, \\beta)$ quantifies how well the parameter model with parameter $\\beta$ fits the data $(\\mathbf{X}, \\mathbf{y})$, and $P(\\beta)$ is a penalty function controlled by $\\lambda$.\n",
    "</div>\n",
    "\n",
    "<p>\n",
    "</p>\n",
    "\n",
    "<div id=\"foot84\"> 84. In this case\n",
    "$$L(\\mathbf{X}, \\mathbf{y}, \\beta) = \\sum_{i = 1}^n \\{0, 1 - y_i(\\beta^\\top x_i\\}$$\n",
    "\n",
    "is called the ***hinge loss***.\n",
    "</div>"
   ]
  }
 ],
 "metadata": {
  "kernelspec": {
   "display_name": "Python 3",
   "language": "python",
   "name": "python3"
  },
  "language_info": {
   "codemirror_mode": {
    "name": "ipython",
    "version": 3
   },
   "file_extension": ".py",
   "mimetype": "text/x-python",
   "name": "python",
   "nbconvert_exporter": "python",
   "pygments_lexer": "ipython3",
   "version": "3.7.1"
  },
  "latex_envs": {
   "LaTeX_envs_menu_present": true,
   "autoclose": false,
   "autocomplete": true,
   "bibliofile": "biblio.bib",
   "cite_by": "apalike",
   "current_citInitial": 1,
   "eqLabelWithNumbers": true,
   "eqNumInitial": 1,
   "hotkeys": {
    "equation": "Ctrl-E",
    "itemize": "Ctrl-I"
   },
   "labels_anchors": false,
   "latex_user_defs": false,
   "report_style_numbering": false,
   "user_envs_cfg": false
  },
  "toc": {
   "base_numbering": "9",
   "nav_menu": {},
   "number_sections": true,
   "sideBar": false,
   "skip_h1_title": false,
   "title_cell": "Table of Contents",
   "title_sidebar": "Contents",
   "toc_cell": true,
   "toc_position": {
    "height": "541px",
    "left": "996px",
    "top": "141px",
    "width": "256px"
   },
   "toc_section_display": false,
   "toc_window_display": true
  }
 },
 "nbformat": 4,
 "nbformat_minor": 2
}
