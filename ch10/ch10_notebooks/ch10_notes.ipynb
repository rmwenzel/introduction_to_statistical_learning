{
 "cells": [
  {
   "cell_type": "markdown",
   "metadata": {},
   "source": [
    "___\n",
    "# Unsupervised Learning\n",
    "___"
   ]
  },
  {
   "cell_type": "markdown",
   "metadata": {
    "toc": true
   },
   "source": [
    "<h1>Table of Contents<span class=\"tocSkip\"></span></h1>\n",
    "<div class=\"toc\"><ul class=\"toc-item\"><li><span><a href=\"#Unsupervised-Learning\" data-toc-modified-id=\"Unsupervised-Learning-10\"><span class=\"toc-item-num\">10&nbsp;&nbsp;</span>Unsupervised Learning</a></span><ul class=\"toc-item\"><li><span><a href=\"#The-Challenge-of-Unsupervised-Learning\" data-toc-modified-id=\"The-Challenge-of-Unsupervised-Learning-10.1\"><span class=\"toc-item-num\">10.1&nbsp;&nbsp;</span>The Challenge of Unsupervised Learning</a></span></li><li><span><a href=\"#Principal-Components-Analysis\" data-toc-modified-id=\"Principal-Components-Analysis-10.2\"><span class=\"toc-item-num\">10.2&nbsp;&nbsp;</span>Principal Components Analysis</a></span><ul class=\"toc-item\"><li><span><a href=\"#What-Are-Principal-Components?\" data-toc-modified-id=\"What-Are-Principal-Components?-10.2.1\"><span class=\"toc-item-num\">10.2.1&nbsp;&nbsp;</span>What Are Principal Components?</a></span></li><li><span><a href=\"#Another-Interpretation-of-Principal-Components\" data-toc-modified-id=\"Another-Interpretation-of-Principal-Components-10.2.2\"><span class=\"toc-item-num\">10.2.2&nbsp;&nbsp;</span>Another Interpretation of Principal Components</a></span></li><li><span><a href=\"#More-on-PCA\" data-toc-modified-id=\"More-on-PCA-10.2.3\"><span class=\"toc-item-num\">10.2.3&nbsp;&nbsp;</span>More on PCA</a></span></li><li><span><a href=\"#Other-Uses-for-Principal-Components\" data-toc-modified-id=\"Other-Uses-for-Principal-Components-10.2.4\"><span class=\"toc-item-num\">10.2.4&nbsp;&nbsp;</span>Other Uses for Principal Components</a></span></li></ul></li><li><span><a href=\"#Clustering-Methods\" data-toc-modified-id=\"Clustering-Methods-10.3\"><span class=\"toc-item-num\">10.3&nbsp;&nbsp;</span>Clustering Methods</a></span><ul class=\"toc-item\"><li><span><a href=\"#$K$-Means-Clustering\" data-toc-modified-id=\"$K$-Means-Clustering-10.3.1\"><span class=\"toc-item-num\">10.3.1&nbsp;&nbsp;</span>$K$-Means Clustering</a></span></li><li><span><a href=\"#Hierarchical-Clustering\" data-toc-modified-id=\"Hierarchical-Clustering-10.3.2\"><span class=\"toc-item-num\">10.3.2&nbsp;&nbsp;</span>Hierarchical Clustering</a></span></li><li><span><a href=\"#Practical-Issues-in-Clustering\" data-toc-modified-id=\"Practical-Issues-in-Clustering-10.3.3\"><span class=\"toc-item-num\">10.3.3&nbsp;&nbsp;</span>Practical Issues in Clustering</a></span></li></ul></li><li><span><a href=\"#Footnotes\" data-toc-modified-id=\"Footnotes-10.4\"><span class=\"toc-item-num\">10.4&nbsp;&nbsp;</span>Footnotes</a></span></li></ul></li></ul></div>"
   ]
  },
  {
   "cell_type": "markdown",
   "metadata": {},
   "source": [
    "## The Challenge of Unsupervised Learning"
   ]
  },
  {
   "cell_type": "markdown",
   "metadata": {},
   "source": [
    "- ***Unsupervised learning*** is learning in the absence of a response. It is often part of ***exploratory data analysis*** (EDA).\n",
    "- Without a response, we aren't intested in prediction or classification, rather we are interested in discovering interesting things about the data. This can be difficult because such a goal is somewhat subjective.\n",
    "- Objective performance critera for unsupervised learning can also be challenging. \n",
    "\n"
   ]
  },
  {
   "cell_type": "markdown",
   "metadata": {},
   "source": [
    "## Principal Components Analysis"
   ]
  },
  {
   "cell_type": "markdown",
   "metadata": {},
   "source": [
    "- Principal components were discussed earlier as a dimensional reduction methof in the [context of regression](#Principal-Components-Regression). They provide a low-dimensional representation of the data that contains as much variation as possible.\n",
    "- ***Principal Components Analysis*** is the process of computing principal components and using them in data analysis."
   ]
  },
  {
   "cell_type": "markdown",
   "metadata": {},
   "source": [
    "### What Are Principal Components?"
   ]
  },
  {
   "cell_type": "markdown",
   "metadata": {},
   "source": [
    "- The ***first principal component*** of features $X_1, \\dots, X_p$ is the normalized linear combination $$ Z_1 = \\hat{\\phi}_1^\\top X$$ \n",
    "  where $X = (X_1, \\dots, X_p), \\hat{\\phi}_1\\in \\mathbb{R}^p$ and $|| \\hat{\\phi} ||  = 1$. The vector $\\hat{\\phi}_1$ is called the ***loading*** vector (its entries are called the ***loadings***) and\n",
    "$$ \\hat{\\phi}_1 = \\underset{\\underset{||\\phi|| = 1}{\\phi \\in \\mathbb{R}^p}}{\\text{argmax}}\\left(\\frac{1}{n}\\sum_{i=1}^n \\left(\\phi^\\top x_i\\right)^2\\right)$$ \n",
    "\n",
    "- Assume we have data $X_i$ with features $X_1, \\dots, X_p$ which is centered in the features (each feature has mean zero).  The objective function in the above optimization problem can be rewritten $$ \\hat{\\phi}_1 = \\underset{\\phi \\in \\mathbb{R}^p}{\\text{argmax}}\\left(\\frac{1}{n}\\sum_{i=1}^n ||z_i ||^2\\right)$$\n",
    "  which is just the sample variance. The $z_{i1}$ are called the ***scores*** of the first principal component $Z_1$.\n",
    "- The first principal component has a nice geometric interpretation <sup><a href='#foot85' id='ref85'>85</a></sup>. The loading vector $\\phi_{1}$ defines a direction in $\\mathbb{R}^p$ along which the variation is maximized. The principal component scores $z_{i1}$ are the projections of the data $x_i$ onto $\\phi_1$ -- that is, the components of the $x_i$ along this direction.\n",
    "- For $j = 2,...,p$ we can compute the $j$-th principal component $\\phi_j$ recursively \n",
    "\n",
    "$$ \\hat{\\phi}_j = \\underset{\\phi \\in \\mathbb{R}^p}{\\text{argmax}}\\left(\\frac{1}{n}\\sum_{i=1}^n \\left(\\phi^\\top x_i\\right)^2\\right)$$ \n",
    "\n",
    "subject to <sup><a href='#foot86' id='ref86'>86</a></sup>\n",
    "\n",
    "$$\\phi_j^\\top \\phi_{j - 1} = 0$$. \n",
    "- We can plot the principal components against each other for a low-dimensional visualization of the data. For example a ***biplot*** plots both the scores and the loading vectors <sup><a href='#foot87' id='ref87'>87</a></sup>. "
   ]
  },
  {
   "cell_type": "markdown",
   "metadata": {},
   "source": [
    "### Another Interpretation of Principal Components"
   ]
  },
  {
   "cell_type": "markdown",
   "metadata": {},
   "source": [
    "- Principal components can also be seen as providing low-dimensional surfaces that are \"closest\" to the observations.\n",
    "- The span of the first $M$ loading vectors $\\phi_1, \\dots, \\phi_M$ can be seen as the $M$-dimensional linear subspaces of $\\mathbb{R}^p$ which is closest to the observations $x_i$ <sup><a href='#foot88' id='ref88'>88</a></sup> \n",
    "- Together the principal components $Z_1, \\dots, Z_M$ and loading vectors $\\phi_1, \\dots, \\phi_M$ can be seen as an $M$-dimensional approximation<sup><a href='#foot89' id='ref89'>89</a></sup>  of each observation\n",
    "\n",
    "$$x_{ij} \\approx \\sum_{m = 1}^M z_{im}\\phi_{jm}$$"
   ]
  },
  {
   "cell_type": "markdown",
   "metadata": {},
   "source": [
    "### More on PCA"
   ]
  },
  {
   "cell_type": "markdown",
   "metadata": {},
   "source": [
    "- PCA requires that the variables are centered to have mean zero \n",
    "- PCA is sensitive to scaling, so we usually scale each variable to have standard deviation 1. \n",
    "- Scaling to standard deviation 1 is particularly important when variables are measured in different units, however if they are measured in the same units we may not wish to do this."
   ]
  },
  {
   "cell_type": "markdown",
   "metadata": {},
   "source": [
    "##### Uniqueness of the Principal Components"
   ]
  },
  {
   "cell_type": "markdown",
   "metadata": {},
   "source": [
    "The loading vectors and score vectors are unique up to sign flips."
   ]
  },
  {
   "cell_type": "markdown",
   "metadata": {},
   "source": [
    "##### The Proportion of Variance Explained"
   ]
  },
  {
   "cell_type": "markdown",
   "metadata": {},
   "source": [
    "- How much of the information in a given data set is lost by projecting onto the principal components? More precisely, what is the ***proportion of variance explained*** (PVE) by each principal component?\n",
    "- Assuming centered data, the ***total variance*** <sup><a href='#foot90' id='ref90'>90</a></sup>  is\n",
    "$$\\text{var}_{total} := \\sum_{j = 1}^p \\mathbb{V}(X_j) = \\sum_{i = 1}^p \\left(\\frac{1}{n} \\sum_{i = 1}^n x_{ij}^2 \\right)$$\n",
    "\n",
    "  while the ***variance explained*** by the $m$-th principal component is $$\\text{var}_{m} := \\frac{1}{n} \\sum_{i=1}^n z_{im}^2 = \\frac{1}{n} \\sum_{i = 1}^n \\left(\\sum_{i = 1}^p \\phi_{jm}x_{ij} \\right)^2 $$.\n",
    "  \n",
    "- The PVE of the $m$-th component is then\n",
    "  \n",
    "  $$\\text{PVE}_m := \\frac{\\text{var}_{m}}{\\text{var}_{total}}$$\n",
    "  \n",
    "  and the cumulative PVE of the first $M$ components <sup><a href='#foot91' id='ref91'>91</a></sup> is \n",
    "  \n",
    "  $$\\sum_{m = 1}^M \\text{PVE}_m $$\n",
    "  "
   ]
  },
  {
   "cell_type": "markdown",
   "metadata": {},
   "source": [
    "##### Deciding How Many Principal Components to Use"
   ]
  },
  {
   "cell_type": "markdown",
   "metadata": {},
   "source": [
    "- In general choose we may not be interested in using all principal components, but just enough to get a \"good\" understanding of the data <sup> <a href='#foot92' id='ref92'>92</a></sup>.\n",
    "- A ***scree plot***, which plots $\\text{PVM}_m$ vs. $m$, can help identify a good number of principal components to use, is one visual method for identifying a good number of principal components. We look for an ***elbow*** - a value of $m$ such that $\\text{PVM}_m$ drops off thereafter.\n",
    "- In general, the question of how many principal components are \"enough\" is ill-defined, and depends on the application and the dataset. We maybe look at the first few principal components in order to find interesting patterns. If none are evident, then we conclude further components are unlikely to be of use. If some are evident, we continue looking at components until no more interesting patterns are found.\n",
    "- In an unpervised setting, these methods are all ad hoc, and reflect the fact that PCA is generally used in EDA <sup> <a href='#foot93' id='ref93'>93</a></sup>. "
   ]
  },
  {
   "cell_type": "markdown",
   "metadata": {},
   "source": [
    "### Other Uses for Principal Components"
   ]
  },
  {
   "cell_type": "markdown",
   "metadata": {},
   "source": [
    "- Many statistical techniques (regression, classification, clustering) can be adapted to the $n \\times M$ PCA matrix with columns the first $M << p$ principal component score vectors.\n",
    "- The PCA matrix can be seen as a \"de-noising\" <sup> <a href='#foot94' id='ref94'>94</a></sup> of the original data, since the signal (as opposed to the noise) is weighted towards the earlier principal components "
   ]
  },
  {
   "cell_type": "markdown",
   "metadata": {},
   "source": [
    "## Clustering Methods"
   ]
  },
  {
   "cell_type": "markdown",
   "metadata": {},
   "source": [
    "- This is a broad set of techniques for finding ***clusters*** (or subgroups) of the data set. \n",
    "- Observations should be \"similar\" within clusters and dissimilar across clusters. The definition of \"similar\" is context dependent.\n",
    "- Clustering is popular in many fields, so there exist a great number of methods."
   ]
  },
  {
   "cell_type": "markdown",
   "metadata": {},
   "source": [
    "### $K$-Means Clustering"
   ]
  },
  {
   "cell_type": "markdown",
   "metadata": {},
   "source": [
    "- ***$K$-means clustering*** seeks to partition the data into a pre-specified number $K$ of distinct, non-overlapping clusters.\n",
    "- More precisely, we seek a partition $\\hat{C}_1, \\dots \\hat{C}_K$ of the set of indices $\\{1, \\dots n\\}$ \n",
    "\n",
    "$$\\hat{C}_1, \\dots \\hat{C}_K = \\underset{C_1, \\dots, C_k}{\\text{argmin}}\\left(\\sum_{k = 1}^K W(C_k)\\right)$$\n",
    "\n",
    "where $W(C_k)$ is some measure of the variation within cluster $C_k$.\n",
    "- A typical choice of $W(C_k)$ is the average <sup><a href='#foot95' id='ref95'>95</a></sup> squared Euclidean distance between points in $C_k$:\n",
    "\n",
    "$$Wc._k = \\frac{1}{|C_k|}\\sum_{i, i' \\in C_k} ||x_i - x_i'||^2$$\n",
    "- A brute force algorithm for finding the global minimum is $O(K^n)$ but there is a much faster algorithm which is guaranteed to find a local minimum. It uses a random initialization so it should be performed several times."
   ]
  },
  {
   "cell_type": "markdown",
   "metadata": {},
   "source": [
    "##### Algorithm:  $K$-Means Clustering"
   ]
  },
  {
   "cell_type": "markdown",
   "metadata": {},
   "source": [
    "1. Initialize by randomly assigning a cluster number $1,\\dots K$ to each observation.\n",
    "2. While the cluster assignments change:\n",
    "    1. For each $k = 1, \\dots K$, compute the ***centroid*** of the $k$-th cluster (the vector of feature means for the observations in the cluster).\n",
    "    2. Assign to each observation the number of the cluster whose centroid is closest."
   ]
  },
  {
   "cell_type": "markdown",
   "metadata": {},
   "source": [
    "##### Advantages"
   ]
  },
  {
   "cell_type": "markdown",
   "metadata": {},
   "source": [
    "##### Disadvantages"
   ]
  },
  {
   "cell_type": "markdown",
   "metadata": {},
   "source": [
    "### Hierarchical Clustering"
   ]
  },
  {
   "cell_type": "markdown",
   "metadata": {},
   "source": [
    "- ***Hierarchical clustering*** is an alternative clustering method which doesn't require a specified number of clusters and results in an attractive tree-based representation of the data called a ***dendrogram***.\n",
    "- ***Bottom-up*** or ***agglomerative*** hierarchical clustering builds a dendrogram from the leaves up to the trunk."
   ]
  },
  {
   "cell_type": "markdown",
   "metadata": {},
   "source": [
    "##### Interpreting a Dendrogram"
   ]
  },
  {
   "cell_type": "markdown",
   "metadata": {},
   "source": [
    "- A dendrogram is a tree (visualized as upside down) with leaves corresponding to observations.\n",
    "- As we move up the tree, similar observations fuse into branches, and similar branches again fuse. \n",
    "- The earlier fusions occur, the more similar the corresponding groups of observations. The height at which two observations are joined by this fusing is a measure of this similarity.\n",
    "- At each height in the dendrogram, a horizontal cut splits the observations into $k$ clusters (corresponding to each of the branches cut) where $1 \\leqslant k \\leqslant n$.\n",
    "- The best choice of cut (hence number $k$ of clusters) is often obtained by inspecting the diagram.\n"
   ]
  },
  {
   "cell_type": "markdown",
   "metadata": {},
   "source": [
    "##### The Hierarchical Clustering Algorithm"
   ]
  },
  {
   "cell_type": "markdown",
   "metadata": {},
   "source": [
    "- This algorithm uses a notion of dissimilarity defined for clusters, called a ***linkage***.\n",
    "- Let $A, B$ be clusters, and let $d(a, b)$ be a dissimilarity measure <sup><a href='#foot95' id='ref95'>95</a></sup> for observations $a, b$. A linkage defines a dissimilarity measure $d(A,B)$ between the clusters $A, B$. The four most common types of linkage are\n",
    "    - ***complete***: $$d_{comp}(A, B) = \\underset{(a, b) \\in A \\times B}{\\max} d(a, b)$$\n",
    "    - ***single***: $$d_{sing}(A, B) = \\underset{(a, b) \\in A \\times B}{\\min} d(a, b)$$\n",
    "    - ***average*** $$d_{avg}(A, B) = \\frac{1}{|A||B|} \\underset{(a, b) \\in A \\times B}{\\sum} d(a, b)$$\n",
    "    - ***centroid*** $$d_{cent}(A, B) = d(x_a, x_b)$$,   \n",
    "      where $x_a$ (resp. $x_b$) is the centroid of $A$ (resp. $B$).\n",
    "\n",
    "- Average, complete, and single linkages are preferred by statisticians. Average and complete linkages are generally preferred as they result in more balanced dendrograms.\n",
    "- Centroid linkage is often used in genomics, but suffers from the possibility of an ***inversion***, in which two clusters are fused at a height *below* the individual clusters, which makes interpretation difficult."
   ]
  },
  {
   "cell_type": "markdown",
   "metadata": {},
   "source": [
    "###### Choice of Dissimilarity Measure"
   ]
  },
  {
   "cell_type": "markdown",
   "metadata": {},
   "source": [
    "- The squared Euclidean distance is often used as a dissimilarity measure.\n",
    "- An alternative is the ***correlation-based distance***\n",
    "- The choice of dissimilarity measure is very important and has a strong effect on the resulting dendrogram. The choice of measure should be determined by context.\n",
    "- One should consider scaling the data before choosing the dissimilarity measure."
   ]
  },
  {
   "cell_type": "markdown",
   "metadata": {},
   "source": [
    "###### Algorithm: Hierarchical Clustering"
   ]
  },
  {
   "cell_type": "markdown",
   "metadata": {},
   "source": [
    "1. Initialize with $n$ clusters, one for each observation, and compute the dissimilarities $d(x_i, x_j)$ for each pair.\n",
    "2. For $i = n, \\dots, 2$:\n",
    "    1. Compute all dissimilarites among the $i$ clusters, and fuse the two clusters which are the least dissimilar. This dissimilarity is the height in the dendrogram where the fusion is placed.\n",
    "    2. Compute the dissimilarities among the new $i -1$ clusters."
   ]
  },
  {
   "cell_type": "markdown",
   "metadata": {},
   "source": [
    "######  Advantages"
   ]
  },
  {
   "cell_type": "markdown",
   "metadata": {},
   "source": [
    "###### Disadvantages"
   ]
  },
  {
   "cell_type": "markdown",
   "metadata": {},
   "source": [
    "### Practical Issues in Clustering"
   ]
  },
  {
   "cell_type": "markdown",
   "metadata": {},
   "source": [
    "##### Small Decisions with Big Consequences"
   ]
  },
  {
   "cell_type": "markdown",
   "metadata": {},
   "source": [
    "- Should observations or features be standardized in some way?\n",
    "- For hierarchical clustering:\n",
    "    - What dissimilarity measure should be used?\n",
    "    - What type of linkage should be used?\n",
    "    - Where should we cut the dendrogram to determine the number of clusters?\n",
    "- For $K$-means clustering, what is the choice of $K$?"
   ]
  },
  {
   "cell_type": "markdown",
   "metadata": {},
   "source": [
    "##### Validating the Clusters Obtained"
   ]
  },
  {
   "cell_type": "markdown",
   "metadata": {},
   "source": [
    "- It is important to decide whether the clusters obtained reflect true subgroups in the data or are a result of \"clustering the noise\".\n",
    "- There exist techniques for making this decision, such as obtaining $p$-values for each cluster."
   ]
  },
  {
   "cell_type": "markdown",
   "metadata": {},
   "source": [
    "##### Other Considerations in Clustering"
   ]
  },
  {
   "cell_type": "markdown",
   "metadata": {},
   "source": [
    "- Both $K$-means and hierarchical clustering assign all observations to some cluster. This can be problematic, for example in the presence of outliers that don't clearly belong to any cluster.\n",
    "- \"Mixture models\" are an attractive approach to accommodating outliers (they amount to a \"soft\" clustering approach).\n",
    "- Clustering methods are not robust to perturbations."
   ]
  },
  {
   "cell_type": "markdown",
   "metadata": {},
   "source": [
    "##### A Tempered Approach to Interpreting the Results of Clustering"
   ]
  },
  {
   "cell_type": "markdown",
   "metadata": {},
   "source": [
    "- Clustering can be a very useful and valid statistical tool if used properly.\n",
    "- To overcome the sensitivity to hyperparameters, is recommended to try hyperparameter optimization.\n",
    "- To overcome the sensitivity to perturbations, it is recommended to cluster on subsets of the data.\n",
    "- Finally, results of cluster analysis should be considered a part of EDA and not taken too seriously"
   ]
  },
  {
   "cell_type": "markdown",
   "metadata": {},
   "source": [
    "___\n",
    "## Footnotes"
   ]
  },
  {
   "cell_type": "markdown",
   "metadata": {},
   "source": [
    "<p>\n",
    "</p>\n",
    "\n",
    "<div id=\"foot85\"> 85. The linear algebra interpretation is <a href='https://en.wikipedia.org/wiki/Principal_component_analysis#Covariances'> also nice </a>\n",
    "<a href=\"#ref85\">↩</a>\n",
    "</div>\n",
    "\n",
    "<p>\n",
    "</p>\n",
    "\n",
    "<div id=\"foot86\"> 86. This constraint is equivalent to \n",
    "    \n",
    " $$\\text{corr}(Z_j, Z_{j-1}) = 0$$\n",
    "<a href=\"#ref86\">↩</a>\n",
    "</div>\n",
    "\n",
    "<p>\n",
    "</p>\n",
    "\n",
    "<div id=\"foot87\"> 87. See book figure 10.1 and corresponding discussion.\n",
    "<a href=\"#ref87\">↩</a>\n",
    "</div>\n",
    "\n",
    "<p>\n",
    "</p>\n",
    "\n",
    "<div id=\"foot88\"> 88. That is,  the linear subspace in $\\mathbb{R}^p$ which minimizes the sum of the squared euclidean distances to the points $x_i$.\n",
    "<a href=\"#ref88\">↩</a>\n",
    "</div>\n",
    "\n",
    "<p>\n",
    "</p>\n",
    "\n",
    "<div id=\"foot89\"> 89. When $M = \\min\\{n - 1, p\\}$, the approximation is exact.\n",
    "<a href=\"#ref89\">↩</a>\n",
    "</div>\n",
    "\n",
    "<p>\n",
    "</p>\n",
    "\n",
    "<div id=\"foot90\"> 90. More accurately, the sum on the right is an estimate of the sum on the left.\n",
    "</div>\n",
    "\n",
    "<p>\n",
    "</p>\n",
    "\n",
    "<div id=\"foot91\"> 91. In general there are $\\min\\{n-1, p\\}$ principal components and $$\\sum_{m = 1}^{\\min\\{n-1, p\\}} \\text{PVE}_m = 1$$\n",
    "</div>\n",
    "\n",
    "<p>\n",
    "</p>\n",
    "\n",
    "<div id=\"foot92\"> 92. Indeed, if we take $M < p$ principal components, then we are truly doing dimensional reduction.\n",
    "</div>\n",
    "\n",
    "<p>\n",
    "</p>\n",
    "\n",
    "<div id=\"foot93\"> 93. In a supervised setting, however, we can treat the number of components as a tuning parameter.\n",
    "</div>\n",
    "    \n",
    "<p>\n",
    "</p>\n",
    "\n",
    "<div id=\"foot94\"> 94. There is a <a href='https://en.wikipedia.org/wiki/Principal_component_analysis#PCA_and_information_theory'> nice information-theoretic interpretation </a> of this statement.\n",
    "</div>\n",
    "\n",
    "<p>\n",
    "</p>\n",
    "\n",
    "<div id=\"foot95\"> 95. That we are taking an average is probably the reason for the \"means\" in \"$K$-means\".\n",
    "</div>\n",
    "\n",
    "<p>\n",
    "</p>\n",
    "\n",
    "<div id=\"foot96\"> 96. For example, the commonly used squared Euclidean distance. See <a href='#Choice-of-Dissimilarity-Measure'> Choice of Dissimilarity Measure </a>\n",
    "</div>"
   ]
  }
 ],
 "metadata": {
  "kernelspec": {
   "display_name": "Python 3",
   "language": "python",
   "name": "python3"
  },
  "language_info": {
   "codemirror_mode": {
    "name": "ipython",
    "version": 3
   },
   "file_extension": ".py",
   "mimetype": "text/x-python",
   "name": "python",
   "nbconvert_exporter": "python",
   "pygments_lexer": "ipython3",
   "version": "3.7.1"
  },
  "latex_envs": {
   "LaTeX_envs_menu_present": true,
   "autoclose": false,
   "autocomplete": true,
   "bibliofile": "biblio.bib",
   "cite_by": "apalike",
   "current_citInitial": 1,
   "eqLabelWithNumbers": true,
   "eqNumInitial": 1,
   "hotkeys": {
    "equation": "Ctrl-E",
    "itemize": "Ctrl-I"
   },
   "labels_anchors": false,
   "latex_user_defs": false,
   "report_style_numbering": false,
   "user_envs_cfg": false
  },
  "toc": {
   "base_numbering": "10",
   "nav_menu": {},
   "number_sections": true,
   "sideBar": false,
   "skip_h1_title": false,
   "title_cell": "Table of Contents",
   "title_sidebar": "Contents",
   "toc_cell": true,
   "toc_position": {
    "height": "541px",
    "left": "909px",
    "top": "180px",
    "width": "256px"
   },
   "toc_section_display": false,
   "toc_window_display": true
  }
 },
 "nbformat": 4,
 "nbformat_minor": 2
}
